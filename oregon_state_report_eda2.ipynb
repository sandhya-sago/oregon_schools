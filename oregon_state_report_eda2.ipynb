{
 "cells": [
  {
   "cell_type": "markdown",
   "metadata": {},
   "source": [
    "This data is from Oregan State relating to School performance between 1997-2006\n",
    "https://www.ode.state.or.us/sfda/reports/r0045Select.asp"
   ]
  },
  {
   "cell_type": "code",
   "execution_count": 1,
   "metadata": {
    "collapsed": true
   },
   "outputs": [],
   "source": [
    "import pandas as pd\n",
    "import matplotlib.pyplot as plt\n",
    "import numpy as np\n",
    "import seaborn as sns"
   ]
  },
  {
   "cell_type": "code",
   "execution_count": 2,
   "metadata": {
    "collapsed": true
   },
   "outputs": [],
   "source": [
    "school_perf_report = pd.read_csv(\"oregon_schoool_performance_report.csv\", encoding='iso-8859-1')"
   ]
  },
  {
   "cell_type": "code",
   "execution_count": 3,
   "metadata": {},
   "outputs": [
    {
     "data": {
      "text/plain": [
       "(28240, 165)"
      ]
     },
     "execution_count": 3,
     "metadata": {},
     "output_type": "execute_result"
    }
   ],
   "source": [
    "school_perf_report.shape"
   ]
  },
  {
   "attachments": {},
   "cell_type": "markdown",
   "metadata": {},
   "source": [
    "There are 28k rows, however, most of the rows are empty. For this reason, we only look at columns which have atleast 15k data (a little more than half). Note that the performance results are very sparse and get dropped by this action. Most of the columns that remain are the demographics information and information about school funding. This is yearly data, but full date is given, so a new column is created called 'year' for easy plotting. INSTID are unique numbers assigned in this report to schools, but are not standard. \"DISTINSTID\" is a standard number assigned to school and will be used for correlating with other data. \"GRDRNG\" is wrong/ incomplete data, because some schools have grade information like \"K-05\" while others have data information \"8-Jul\". \"last column\" only has \"-\" so it is also dropped."
   ]
  },
  {
   "cell_type": "code",
   "execution_count": 4,
   "metadata": {},
   "outputs": [],
   "source": [
    "keep_columns = school_perf_report.columns[school_perf_report.isnull().sum() < 15000]"
   ]
  },
  {
   "cell_type": "code",
   "execution_count": 5,
   "metadata": {},
   "outputs": [
    {
     "data": {
      "text/plain": [
       "0    1999\n",
       "1    2000\n",
       "2    2001\n",
       "3    2002\n",
       "4    2003\n",
       "Name: year, dtype: int64"
      ]
     },
     "execution_count": 5,
     "metadata": {},
     "output_type": "execute_result"
    }
   ],
   "source": [
    "school_perf_report = school_perf_report[keep_columns]\n",
    "school_perf_report['year'] = pd.to_datetime(school_perf_report['SCHLYR'], errors='ignore').dt.year\n",
    "school_perf_report['year'].head()"
   ]
  },
  {
   "cell_type": "code",
   "execution_count": 6,
   "metadata": {},
   "outputs": [
    {
     "data": {
      "text/plain": [
       "Index(['DISTINSTID', 'SCHLNM', 'DISTNM', 'STUDENRCNT', 'DISTSTUDENRCNT',\n",
       "       'STSTUDENRCNT', 'FREEREDSTUDCNT', 'FREEREDPCT', 'DISTFREEREDPCT',\n",
       "       'STFREEREDPCT', 'MnrtyStudCnt', 'MnrtyStudPct', 'DistMnrtyStudPct',\n",
       "       'StMnrtyStudPct', 'GenFundDIRCLSRMAMT', 'GenFundDISTDIRCLSRmAmt',\n",
       "       'GenFundSTDIRCLSRMAmt', 'GenFundCLSRMSUPPAMt',\n",
       "       'GenFundDISTCLSRMSUppAmt', 'GenFundSTCLSRMSUPPAmt',\n",
       "       'GenFundBLDGSUPPAMT', 'GenFundDISTBLDGSUPpAmt', 'GenFundSTBLDGSUPPAmt',\n",
       "       'GenFundCNTLSUPPAMT', 'GenFundDISTCNTLSUPpAmt', 'GenFundSTCNTLSUPPAmt',\n",
       "       'GenFundTtlAmt', 'GenFundDistTtlAmt', 'GenFundStTtlAmt',\n",
       "       'TtlDirClsRmAmt', 'TtlClsRmSuppAmt', 'TtlBldgSuppAmt', 'TtlCntlSuppAmt',\n",
       "       'TtlSpendAmt', 'TtlDistDirClsRmAmt', 'TtlDistClsRmSuppAmt',\n",
       "       'TtlDistBldgSuppAmt', 'TtlDistCntlSuppAmt', 'TtlDistSpendAmt',\n",
       "       'TtlStDirClsRmAmt', 'TtlStClsRmSuppAmt', 'TtlStBldgSuppAmt',\n",
       "       'TtlStCntlSuppAmt', 'TtlStSpendAmt', 'year'],\n",
       "      dtype='object')"
      ]
     },
     "execution_count": 6,
     "metadata": {},
     "output_type": "execute_result"
    }
   ],
   "source": [
    "school_perf_report = school_perf_report.drop([\"INSTID\",\"SCHLYR\",\"GRDRNG\",\"last column\"], axis=1)\n",
    "school_perf_report.columns"
   ]
  },
  {
   "cell_type": "markdown",
   "metadata": {},
   "source": [
    "It is not clear from the webpage, what the column descriptions are. \n",
    "https://www.ode.state.or.us/sfda/rptDef.aspx\n",
    "\n",
    "Another problem is that the school names have different versions of the same name. So had to clean up the school names.\n"
   ]
  },
  {
   "cell_type": "code",
   "execution_count": 7,
   "metadata": {},
   "outputs": [
    {
     "data": {
      "text/plain": [
       "array(['Abernethy Elem School', 'Abernethy Elementary School',\n",
       "       'AINSWORTH ELEM SCHOOL', 'Ainsworth Elementary School',\n",
       "       'ALAMEDA ELEM SCHOOL', 'Alameda Elementary School',\n",
       "       'APPLEGATE ELEM SCHOOL', 'Applegate Elementary School',\n",
       "       'ARLETA ELEM SCHOOL', 'Arleta Elementary School',\n",
       "       'ASTOR ELEM SCHOOL', 'Astor Elementary School',\n",
       "       'ATKINSON ELEM SCHOOL', 'Atkinson Elementary School',\n",
       "       'BALL ELEM SCHOOL', 'Ball Elementary School',\n",
       "       'Rosa Parks Elementary School', 'BEACH ELEM SCHOOL',\n",
       "       'Beach Elementary School', 'BEAUMONT MIDDLE SCHOOL',\n",
       "       'Beaumont Middle School', 'BINNSMEAD MIDDLE SCHOOL',\n",
       "       'Binnsmead Middle School', 'BOISE/ELIOT ELEM SCHOOL',\n",
       "       'Boise/Eliot Elementary School', 'Boise-Eliot Elementary School',\n",
       "       'BRIDGER ELEM SCHOOL', 'Bridger Elementary School',\n",
       "       'BRIDLEMILE ELEM SCHOOL', 'Bridlemile Elementary School',\n",
       "       'BROOKLYN ELEM SCHOOL', 'Brooklyn Elementary School',\n",
       "       'BUCKMAN ELEM SCHOOL', 'Buckman Elementary School',\n",
       "       'CAPITOL HILL ELEM SCHOOL', 'Capitol Hill Elementary School',\n",
       "       'CHAPMAN ELEM SCHOOL', 'Chapman Elementary School',\n",
       "       'CHIEF JOSEPH ELEM SCHOOL', 'Chief Joseph Elementary School',\n",
       "       'CLARENDON ELEM SCHOOL', 'Clarendon Elementary School',\n",
       "       'Clarendon-Portsmouth School', 'César Chávez K-8 School',\n",
       "       'Cesar Chavez K-8 School', 'CLARK ELEM SCHOOL',\n",
       "       'Clark Elementary School', 'Harrison Park School',\n",
       "       'CRESTON ELEM SCHOOL', 'Creston Elementary School',\n",
       "       'DUNIWAY ELEM SCHOOL', 'Duniway Elementary School', 'EDWARDS ELEM',\n",
       "       'Edwards Elementary School', 'FAUBION ELEM SCHOOL',\n",
       "       'Faubion Elementary School', 'FERNWOOD MIDDLE SCHOOL',\n",
       "       'Fernwood Middle School', 'GEORGE MIDDLE SCHOOL',\n",
       "       'George Middle School', 'GLENCOE ELEM SCHOOL',\n",
       "       'Glencoe Elementary School', 'GRAY MIDDLE SCHOOL',\n",
       "       'Gray Middle School', 'GREGORY HEIGHTS MIDDLE SCHOOL',\n",
       "       'Gregory Heights Middle School', 'GROUT ELEM SCHOOL',\n",
       "       'Grout Elementary School', 'HAYHURST ELEM SCHOOL',\n",
       "       'Hayhurst Elementary School', 'HOLLYROOD ELEM SCHOOL',\n",
       "       'Hollyrood Elementary School', 'Hollyrood-Fernwood School',\n",
       "       'Beverly Cleary School ', 'HOSFORD MIDDLE SCHOOL',\n",
       "       'Hosford Middle School', 'HUMBOLDT ELEM SCHOOL',\n",
       "       'Humboldt Elementary School', 'IRVINGTON ELEM SCHOOL',\n",
       "       'Irvington Elementary School', 'JAMES JOHN ELEM',\n",
       "       'James John Elementary School', 'KELLOGG MIDDLE SCHOOL',\n",
       "       'Kellogg Middle School', 'KELLY ELEM SCHOOL',\n",
       "       'Kelly Elementary School', 'KENTON ELEM SCHOOL',\n",
       "       'Kenton Elementary School', 'KING ELEM SCHOOL',\n",
       "       'King Elementary School', 'Martin Luther King Jr. School',\n",
       "       'LAURELHURST ELEM SCHOOL', 'Laurelhurst Elementary School',\n",
       "       'LEE ELEM SCHOOL', 'Lee Elementary School', 'LENT ELEM SCHOOL',\n",
       "       'Lent Elementary School', 'LEWIS ELEM SCHOOL',\n",
       "       'Lewis Elementary School', 'LLEWELLYN ELEM SCHOOL',\n",
       "       'Llewellyn Elementary School', 'MAPLEWOOD ELEM SCHOOL',\n",
       "       'Maplewood Elementary School', 'MARYSVILLE ELEM SCHOOL',\n",
       "       'Marysville Elementary School', 'MEEK ELEM SCHOOL',\n",
       "       'Meek Elementary School', 'MT TABOR MIDDLE SCHOOL',\n",
       "       'Mt Tabor Middle School', 'OCKLEY GREEN MIDDLE SCHOOL',\n",
       "       'Ockley Green Middle School', 'Ockley Green ',\n",
       "       'Chief Joseph/Ockley Green School', 'PENINSULA ELEM SCHOOL',\n",
       "       'Peninsula Elementary School', 'PARRY CENTER',\n",
       "       'Parry Center for Children', 'PORTSMOUTH MIDDLE SCHOOL',\n",
       "       'Portsmouth Middle School', 'RICHMOND ELEM SCHOOL',\n",
       "       'Richmond Elementary School', 'RIGLER ELEM SCHOOL',\n",
       "       'Rigler Elementary School', 'ROSE CITY PARK ELEM',\n",
       "       'Rose City Park Elementary School', 'Roseway Heights School',\n",
       "       'SABIN ELEM SCHOOL', 'Sabin Elementary School', 'SCOTT ELEM SCHOOL',\n",
       "       'Scott Elementary School', 'SELLWOOD MIDDLE SCHOOL',\n",
       "       'Sellwood Middle School', 'SITTON ELEM SCHOOL',\n",
       "       'Sitton Elementary School', 'SKYLINE ELEM SCHOOL',\n",
       "       'Skyline Elementary School', 'SMITH ELEM SCHOOL',\n",
       "       'Smith Elementary School', 'STEPHENSON ELEM SCHOOL',\n",
       "       'Stephenson Elementary School', 'SUNNYSIDE ELEM SCHOOL',\n",
       "       'Sunnyside Environmental School', 'Sunnyside Elementary School',\n",
       "       'TUBMAN MIDDLE SCHOOL', 'Tubman Middle School',\n",
       "       'VERNON ELEM SCHOOL', 'Vernon Elementary School',\n",
       "       'VESTAL ELEM SCHOOL', 'Vestal Elementary School',\n",
       "       'WAVERLY CHILDRENS HOME',\n",
       "       'Trillium Family Services/Waverly Childrens Home Theraputic S',\n",
       "       'WEST SYLVAN MIDDLE SCHOOL', 'West Sylvan Middle School',\n",
       "       'WHITAKER MIDDLE', 'Whitaker Middle School', 'WHITMAN ELEM SCHOOL',\n",
       "       'Whitman Elementary School', 'Wilcox Elem School',\n",
       "       'Wilcox Elementary School', 'WOODLAWN ELEM SCHOOL',\n",
       "       'Woodlawn Elementary School', 'WOODMERE ELEM SCHOOL',\n",
       "       'Woodmere Elementary School', 'WOODSTOCK ELEM SCHOOL',\n",
       "       'Woodstock Elementary School', 'Youngson Elem School',\n",
       "       'Youngson Elementary School', 'BENSON POLYTECHNIC HIGH S',\n",
       "       'Benson Polytechnic High School', 'JOHNS LANDING SCHOOL',\n",
       "       'Boys & Girls Aid Society/Johns Landing School',\n",
       "       'CLINTON STREET SCHOOL', 'Janus Youth Programs--Clinton School',\n",
       "       'Janus Youth Programs', 'CLEVELAND HIGH SCHOOL',\n",
       "       'Cleveland High School', 'MONROE PROGRAM', 'FRANKLIN HIGH SCHOOL',\n",
       "       'Franklin High School', 'GRANT HIGH SCHOOL', 'Grant High School',\n",
       "       'JEFFERSON HIGH SCHOOL', 'Jefferson High School',\n",
       "       'LINCOLN HIGH SCHOOL', 'Lincoln High School', 'MADISON HIGH SCHOOL',\n",
       "       'Madison High School', 'METRO LEARNING CENTER',\n",
       "       'Metropolitan Learning Center', 'MARSHALL HIGH SCHOOL',\n",
       "       'Marshall High School', 'ROOSEVELT HIGH SCHOOL',\n",
       "       'Roosevelt High School', 'VOCATIONAL VILLAGE', 'Vocational Village',\n",
       "       'Joseph L Meek Professional Technical High School',\n",
       "       'WHITE SHIELD SCHOOL', 'White Shield Home', 'WILSON HIGH SCHOOL',\n",
       "       'Wilson High School', 'ROSEMONT', 'Rosemont School',\n",
       "       'Edgefield Childrens Center', 'LANE MIDDLE SCHOOL',\n",
       "       'Lane Middle School', 'JACKSON MIDDLE SCHOOL',\n",
       "       'Jackson Middle School', 'MARKHAM ELEMENTARY SCHOOL',\n",
       "       'Markham Elementary School', 'Morrison DTYC',\n",
       "       'Morrison Child & Family Services, Hand In Hand Early Childho',\n",
       "       'Morrison Child & Family Services, Hand In Hand ', 'GARLINGTON',\n",
       "       'Janus Youth Programs--Imani House', 'NICKERSON CENTER',\n",
       "       'Lifeworks NW-Nickerson Ctr ADTP', 'Nickerson Center ADTP',\n",
       "       'RIEKE ELEM SCHOOL', 'Rieke Elementary School',\n",
       "       'Ne Community School', 'ADVENTURE SCHOOL',\n",
       "       'ENVIRONMENTAL MIDDLE SCHOOL', 'Environmental Middle School',\n",
       "       'DA VINCI SCHOOL', 'Da Vinci Middle School', 'Da Vinci Middle',\n",
       "       'da Vinci Middle School', 'WINTERHAVEN SCHOOL',\n",
       "       'Winterhaven School', 'De Paul Treatment Centers Inc',\n",
       "       'Eastside Education Center', 'Greenhouse Alternative School',\n",
       "       'Lents Education Center', 'Pacific Crest Community School',\n",
       "       'Serendipity', 'Woodmont School For Dyslexics',\n",
       "       'Thomas A Edison High School', 'Developmental KG',\n",
       "       'Emanuel Hospital                                            ',\n",
       "       'Columbia Transitional                                  ',\n",
       "       'Pioneer CTC', 'Operation Easy', 'Mt Scott Park Learning Ctr',\n",
       "       'Mt Scott Park Center for Learning High School ', 'PACC',\n",
       "       'PRAISE                                                      ',\n",
       "       'Shriners Hospital                                      ',\n",
       "       'U of O (OHSU)                                          ',\n",
       "       'Community Transitional School', 'Ayos',\n",
       "       'Albina Youth Opportunity Center',\n",
       "       'CTC Jefferson                                          ',\n",
       "       'CTC PSU                                                ',\n",
       "       'CTC Southeast                                          ',\n",
       "       'International Learning Ctr',\n",
       "       'Portland International Community School', 'Poic',\n",
       "       'Portland Opportunities Industrial Center', 'PIVOT PROGRAM',\n",
       "       'GRANT NIGHT HIGH SCHOOL', 'Portland Night High School at Grant',\n",
       "       'Oregon State Hospital-Portland                              ',\n",
       "       'Quest School', 'Quest Schools Inc', 'Open Meadow Learning Ctr',\n",
       "       'Open Meadow High School', 'Portland Street Academy',\n",
       "       'Youth Progress Association', 'Youth Progress Learning Center',\n",
       "       'SERP Enterprises Inc', 'Youth Employment Institute',\n",
       "       'Portland Youth Builders', 'Counteract Returning Students',\n",
       "       'Marshall Night School', 'Missouri Street Home',\n",
       "       'Portland Public SD EI/ECSE-PEIP Program                     ',\n",
       "       'Columbia Regional Program',\n",
       "       'LISTOS                                                 ',\n",
       "       'LISTOS Academy/Oregon Council for Hispanic Advancement (OCHA',\n",
       "       'Genesis', 'Green Thumb', 'FOREST PARK ELEM SCHOOL',\n",
       "       'Forest Park Elementary School', 'Head Start Sacajawea',\n",
       "       'N/NE Mental Health Clinic', 'Tualatin Valley Day Treatment Ctr',\n",
       "       'Autism Services                                        ',\n",
       "       'Deaf/Hard of Hearing Services                          ',\n",
       "       'ESL Newcomer Site 1                                 ',\n",
       "       'Home Instruction                                       ',\n",
       "       'I.L.P. Night School                                    ',\n",
       "       'ILP Night School',\n",
       "       'Orthopedic Services                                    ',\n",
       "       'P.C.C. Bilingual                                       ',\n",
       "       'PCC Bilingual',\n",
       "       'P.C.C. G.E.D.                                          ',\n",
       "       'PCC GED',\n",
       "       'P.C.C. H.S. Completion                                 ',\n",
       "       'PCC HS Completion', 'PCC Middle College',\n",
       "       'Part-time Home/Private                                 ',\n",
       "       'SPECIAL EDUCATION PROGRAMS',\n",
       "       'Private/Alternative Special Education',\n",
       "       'Vision Services                                        ',\n",
       "       'Vocational Education Only                              ',\n",
       "       'Y.E.I. Teen Parent                                     ',\n",
       "       'YEI Teen Parent',\n",
       "       'Gately Day Treatment                                   ',\n",
       "       'Multnomah County Jail', 'New Avenues for Youth',\n",
       "       'Open Meadow Middle School', 'The Northwest Academy',\n",
       "       'McCoy Jr Academy', 'Sunnyside Co-op', 'Southeast Learning',\n",
       "       'Open Meadow Crue', 'Portland Evening High School at Benson',\n",
       "       'Mc Coy Public Charter School', 'McCoy Public Charter School',\n",
       "       'CM2 Opal School', \"Opal School of the Portland Children's Museum\",\n",
       "       'Incarcerated Youth Program at Donald E Long', 'Pathfinder Academy',\n",
       "       'Foster/CSC SLC Sites', 'Pioneer Program', 'CRC Transition Class',\n",
       "       'Parry Day Treatment', 'SCIP Special Needs (Trillium/Waverly)',\n",
       "       'Parry Center SCIP', 'Trillium', 'Trillium School',\n",
       "       'Trillium Charter ', 'Trillium ', 'H.S. B Program at Columbia',\n",
       "       'HS B Program at Columbia', 'The Emerson School', 'Emerson School',\n",
       "       'Access Altenative Program - Portland SD', 'Gately Academy',\n",
       "       'Coffee Creek Even Start Program',\n",
       "       'PCC Outer SE Even Start Program', 'BizTech High School',\n",
       "       'Pauling Academy of Integrated Sciences',\n",
       "       'Portland Academy of International Studies',\n",
       "       'Renaissance Arts Academy', 'School of Champions',\n",
       "       'School of Pride', 'Arts, Communication & Technology School',\n",
       "       'Two Rivers Community School',\n",
       "       'Spanish-English International School',\n",
       "       'Pursuit of Wellness Education at Roosevelt Campus',\n",
       "       'Self Enhancement, Inc/SEI Academy',\n",
       "       'Garden Laboratory Charter School', 'Native Montessori Program',\n",
       "       'Portland Arthur Academy Charter School', 'Wildflowers',\n",
       "       'Academy of Arts and Technology',\n",
       "       'Leadership and Entrepreneurship Public Charter High School',\n",
       "       'Alliance High School', 'Portland Village School',\n",
       "       'Creative Science School',\n",
       "       'Le Monde French Immersion Public Charter School',\n",
       "       'Providence Pediatric Nursing Facility', 'PPS OPERATED PROGRAMS',\n",
       "       'PRIVATE ALTERNATIVE PROGRAMS'], dtype=object)"
      ]
     },
     "execution_count": 7,
     "metadata": {},
     "output_type": "execute_result"
    }
   ],
   "source": [
    "school_perf_report[school_perf_report[\"DISTINSTID\"]==2180][\"SCHLNM\"].unique()"
   ]
  },
  {
   "cell_type": "code",
   "execution_count": 8,
   "metadata": {},
   "outputs": [],
   "source": [
    "\n",
    "school_perf_report[\"SCHLNM\"] = school_perf_report[\"SCHLNM\"].str.lower().str.replace(r\"elementary\",\"elem\").str.replace(r\"/\",\" \").str.replace(\"school\",\"\").str.replace(\"-\",\" \").str.replace(\"the\",\"\").str.replace(\".\",\"\").str.replace(r\"\\s+\",\" \").str.rstrip().str.lstrip()"
   ]
  },
  {
   "cell_type": "code",
   "execution_count": 9,
   "metadata": {},
   "outputs": [
    {
     "data": {
      "text/plain": [
       "array(['abernethy elem', 'ainsworth elem', 'alameda elem',\n",
       "       'applegate elem', 'arleta elem', 'astor elem', 'atkinson elem',\n",
       "       'ball elem', 'rosa parks elem', 'beach elem', 'beaumont middle',\n",
       "       'binnsmead middle', 'boise eliot elem', 'bridger elem',\n",
       "       'bridlemile elem', 'brooklyn elem', 'buckman elem',\n",
       "       'capitol hill elem', 'chapman elem', 'chief joseph elem',\n",
       "       'clarendon elem', 'clarendon portsmouth', 'césar chávez k 8',\n",
       "       'cesar chavez k 8', 'clark elem', 'harrison park', 'creston elem',\n",
       "       'duniway elem', 'edwards elem', 'faubion elem', 'fernwood middle',\n",
       "       'george middle', 'glencoe elem', 'gray middle',\n",
       "       'gregory heights middle', 'grout elem', 'hayhurst elem',\n",
       "       'hollyrood elem', 'hollyrood fernwood', 'beverly cleary',\n",
       "       'hosford middle', 'humboldt elem', 'irvington elem',\n",
       "       'james john elem', 'kellogg middle', 'kelly elem', 'kenton elem',\n",
       "       'king elem', 'martin lur king jr', 'laurelhurst elem', 'lee elem',\n",
       "       'lent elem', 'lewis elem', 'llewellyn elem', 'maplewood elem',\n",
       "       'marysville elem', 'meek elem', 'mt tabor middle',\n",
       "       'ockley green middle', 'ockley green', 'chief joseph ockley green',\n",
       "       'peninsula elem', 'parry center', 'parry center for children',\n",
       "       'portsmouth middle', 'richmond elem', 'rigler elem',\n",
       "       'rose city park elem', 'roseway heights', 'sabin elem',\n",
       "       'scott elem', 'sellwood middle', 'sitton elem', 'skyline elem',\n",
       "       'smith elem', 'stephenson elem', 'sunnyside elem',\n",
       "       'sunnyside environmental', 'tubman middle', 'vernon elem',\n",
       "       'vestal elem', 'waverly childrens home',\n",
       "       'trillium family services waverly childrens home raputic s',\n",
       "       'west sylvan middle', 'whitaker middle', 'whitman elem',\n",
       "       'wilcox elem', 'woodlawn elem', 'woodmere elem', 'woodstock elem',\n",
       "       'youngson elem', 'benson polytechnic high s',\n",
       "       'benson polytechnic high', 'johns landing',\n",
       "       'boys & girls aid society johns landing', 'clinton street',\n",
       "       'janus youth programs clinton', 'janus youth programs',\n",
       "       'cleveland high', 'monroe program', 'franklin high', 'grant high',\n",
       "       'jefferson high', 'lincoln high', 'madison high',\n",
       "       'metro learning center', 'metropolitan learning center',\n",
       "       'marshall high', 'roosevelt high', 'vocational village',\n",
       "       'joseph l meek professional technical high', 'white shield',\n",
       "       'white shield home', 'wilson high', 'rosemont',\n",
       "       'edgefield childrens center', 'lane middle', 'jackson middle',\n",
       "       'markham elem', 'morrison dtyc',\n",
       "       'morrison child & family services, hand in hand early childho',\n",
       "       'morrison child & family services, hand in hand', 'garlington',\n",
       "       'janus youth programs imani house', 'nickerson center',\n",
       "       'lifeworks nw nickerson ctr adtp', 'nickerson center adtp',\n",
       "       'rieke elem', 'ne community', 'adventure', 'environmental middle',\n",
       "       'da vinci', 'da vinci middle', 'winterhaven',\n",
       "       'de paul treatment centers inc', 'eastside education center',\n",
       "       'greenhouse alternative', 'lents education center',\n",
       "       'pacific crest community', 'serendipity', 'woodmont for dyslexics',\n",
       "       'thomas a edison high', 'developmental kg', 'emanuel hospital',\n",
       "       'columbia transitional', 'pioneer ctc', 'operation easy',\n",
       "       'mt scott park learning ctr',\n",
       "       'mt scott park center for learning high', 'pacc', 'praise',\n",
       "       'shriners hospital', 'u of o (ohsu)', 'community transitional',\n",
       "       'ayos', 'albina youth opportunity center', 'ctc jefferson',\n",
       "       'ctc psu', 'ctc souast', 'international learning ctr',\n",
       "       'portland international community', 'poic',\n",
       "       'portland opportunities industrial center', 'pivot program',\n",
       "       'grant night high', 'portland night high at grant',\n",
       "       'oregon state hospital portland', 'quest', 'quest s inc',\n",
       "       'open meadow learning ctr', 'open meadow high',\n",
       "       'portland street academy', 'youth progress association',\n",
       "       'youth progress learning center', 'serp enterprises inc',\n",
       "       'youth employment institute', 'portland youth builders',\n",
       "       'counteract returning students', 'marshall night',\n",
       "       'missouri street home', 'portland public sd ei ecse peip program',\n",
       "       'columbia regional program', 'listos',\n",
       "       'listos academy oregon council for hispanic advancement (ocha',\n",
       "       'genesis', 'green thumb', 'forest park elem',\n",
       "       'head start sacajawea', 'n ne mental health clinic',\n",
       "       'tualatin valley day treatment ctr', 'autism services',\n",
       "       'deaf hard of hearing services', 'esl newcomer site 1',\n",
       "       'home instruction', 'ilp night', 'orthopedic services',\n",
       "       'pcc bilingual', 'pcc ged', 'pcc hs completion',\n",
       "       'pcc middle college', 'part time home private',\n",
       "       'special education programs',\n",
       "       'private alternative special education', 'vision services',\n",
       "       'vocational education only', 'yei teen parent',\n",
       "       'gately day treatment', 'multnomah county jail',\n",
       "       'new avenues for youth', 'open meadow middle', 'northwest academy',\n",
       "       'mccoy jr academy', 'sunnyside co op', 'souast learning',\n",
       "       'open meadow crue', 'portland evening high at benson',\n",
       "       'mc coy public charter', 'mccoy public charter', 'cm2 opal',\n",
       "       \"opal of portland children's museum\",\n",
       "       'incarcerated youth program at donald e long', 'pathfinder academy',\n",
       "       'foster csc slc sites', 'pioneer program', 'crc transition class',\n",
       "       'parry day treatment', 'scip special needs (trillium waverly)',\n",
       "       'parry center scip', 'trillium', 'trillium charter',\n",
       "       'hs b program at columbia', 'emerson',\n",
       "       'access altenative program portland sd', 'gately academy',\n",
       "       'coffee creek even start program',\n",
       "       'pcc outer se even start program', 'biztech high',\n",
       "       'pauling academy of integrated sciences',\n",
       "       'portland academy of international studies',\n",
       "       'renaissance arts academy', 'of champions', 'of pride',\n",
       "       'arts, communication & technology', 'two rivers community',\n",
       "       'spanish english international',\n",
       "       'pursuit of wellness education at roosevelt campus',\n",
       "       'self enhancement, inc sei academy', 'garden laboratory charter',\n",
       "       'native montessori program', 'portland arthur academy charter',\n",
       "       'wildflowers', 'academy of arts and technology',\n",
       "       'leadership and entrepreneurship public charter high',\n",
       "       'alliance high', 'portland village', 'creative science',\n",
       "       'le monde french immersion public charter',\n",
       "       'providence pediatric nursing facility', 'pps operated programs',\n",
       "       'private alternative programs'], dtype=object)"
      ]
     },
     "execution_count": 9,
     "metadata": {},
     "output_type": "execute_result"
    }
   ],
   "source": [
    "school_perf_report[school_perf_report[\"DISTINSTID\"]==2180][\"SCHLNM\"].unique()"
   ]
  },
  {
   "cell_type": "code",
   "execution_count": 10,
   "metadata": {},
   "outputs": [
    {
     "data": {
      "text/plain": [
       "(28240, 45)"
      ]
     },
     "execution_count": 10,
     "metadata": {},
     "output_type": "execute_result"
    }
   ],
   "source": [
    "school_perf_report.to_csv(\"oregon_schoool_performance_report_filtered.csv\", index=False)\n",
    "school_perf_report.shape"
   ]
  }
 ],
 "metadata": {
  "kernelspec": {
   "display_name": "Python 3",
   "language": "python",
   "name": "python3"
  },
  "language_info": {
   "codemirror_mode": {
    "name": "ipython",
    "version": 3
   },
   "file_extension": ".py",
   "mimetype": "text/x-python",
   "name": "python",
   "nbconvert_exporter": "python",
   "pygments_lexer": "ipython3",
   "version": "3.6.1"
  }
 },
 "nbformat": 4,
 "nbformat_minor": 2
}
