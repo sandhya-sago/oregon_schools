{
 "cells": [
  {
   "cell_type": "markdown",
   "metadata": {},
   "source": [
    "## Oregon School Data\n",
    "\n",
    "This project gets data about School Districts (and schools) in Oregon for the years 1997-2009 from multiple sources (https://datahub.io, https://www.ode.state.or.us), cleans, cross-correlates and analyzes them.\n",
    "\n",
    "Tools and Packages used: Python, Pandas, Matplotlib, Seaborn, Numpy, datapackage, Jupyter Notebooks.\n",
    "\n",
    "1. [oregon_schools_eda1](oregon_schools_eda1.ipynb) \n",
    "   reads data from datahub.io. The data is relatively clean, though NAN rows had to be dropped. Various trends are visualized.\n",
    "   \n",
    "2. [oregon_state_report_eda2](oregon_state_report_eda2.ipynb)\n",
    "    This data is downloaded as a spreadsheet from the Oregon State Education report site. The data is very unclean, with most of the columns being sparsely populated. Also, there are variations in how the school names are reported, so the data needed a lot of cleaning, and a new csv file is created.\n",
    "    \n",
    "3. [cross_validate_1&2](cross_validate_1&2.ipynb)\n",
    "    The above two sources of data are checked against each other to make sure that the data is similar, even though the sources are different.\n"
   ]
  },
  {
   "cell_type": "code",
   "execution_count": null,
   "metadata": {
    "collapsed": true
   },
   "outputs": [],
   "source": []
  }
 ],
 "metadata": {
  "kernelspec": {
   "display_name": "Python 3",
   "language": "python",
   "name": "python3"
  },
  "language_info": {
   "codemirror_mode": {
    "name": "ipython",
    "version": 3
   },
   "file_extension": ".py",
   "mimetype": "text/x-python",
   "name": "python",
   "nbconvert_exporter": "python",
   "pygments_lexer": "ipython3",
   "version": "3.6.1"
  }
 },
 "nbformat": 4,
 "nbformat_minor": 2
}
