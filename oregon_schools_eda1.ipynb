{
 "cells": [
  {
   "cell_type": "markdown",
   "metadata": {},
   "source": [
    "# Education Actual Operating Cost Per Student  from Oregon from 1997-2000\n",
    "\n",
    "## Part 1: EDA (Exploratory Data Analysis)\n",
    "\n",
    "This data is obtained from \"Education Actual Operating Cost Per Student\" on datahub.io, link\n",
    "\n",
    "https://datahub.io/JohnSnowLabs/education-actual-operating-cost-per-student\n",
    "\n",
    "Data retrieved on 5/18/2018\n",
    "\n",
    "Note: Give proper attribution\n"
   ]
  },
  {
   "cell_type": "markdown",
   "metadata": {},
   "source": [
    "The web page has information on how to get the data into pandas."
   ]
  },
  {
   "cell_type": "code",
   "execution_count": 1,
   "metadata": {
    "scrolled": true
   },
   "outputs": [],
   "source": [
    "import datapackage\n",
    "import pandas as pd\n",
    "import matplotlib.pyplot as plt\n",
    "import numpy as np\n",
    "import seaborn as sns\n",
    "\n",
    "data_url = 'https://datahub.io/JohnSnowLabs/education-actual-operating-cost-per-student/datapackage.json'\n"
   ]
  },
  {
   "cell_type": "code",
   "execution_count": 2,
   "metadata": {},
   "outputs": [],
   "source": [
    "package = datapackage.Package(data_url)"
   ]
  },
  {
   "cell_type": "markdown",
   "metadata": {},
   "source": [
    "The following are trying to figure out what the \"datapackage\" returns and what the methods that can be used are."
   ]
  },
  {
   "cell_type": "code",
   "execution_count": 3,
   "metadata": {},
   "outputs": [
    {
     "data": {
      "text/plain": [
       "<datapackage.package.Package at 0x178ab3c7a58>"
      ]
     },
     "execution_count": 3,
     "metadata": {},
     "output_type": "execute_result"
    }
   ],
   "source": [
    "package\n"
   ]
  },
  {
   "cell_type": "code",
   "execution_count": 4,
   "metadata": {},
   "outputs": [
    {
     "data": {
      "text/plain": [
       "['validation_report',\n",
       " 'education-actual-operating-cost-per-student-csv_csv',\n",
       " 'education-actual-operating-cost-per-student-csv_csv_preview',\n",
       " 'education-actual-operating-cost-per-student-csv_json',\n",
       " 'education-actual-operating-cost-per-student_zip',\n",
       " 'education-actual-operating-cost-per-student-csv']"
      ]
     },
     "execution_count": 4,
     "metadata": {},
     "output_type": "execute_result"
    }
   ],
   "source": [
    "package.resource_names"
   ]
  },
  {
   "cell_type": "code",
   "execution_count": 5,
   "metadata": {},
   "outputs": [
    {
     "data": {
      "text/plain": [
       "[<datapackage.resource.Resource at 0x178a7b1d668>,\n",
       " <datapackage.resource.Resource at 0x178ab3c7ef0>,\n",
       " <datapackage.resource.Resource at 0x178ab474fd0>,\n",
       " <datapackage.resource.Resource at 0x178ab47d2e8>,\n",
       " <datapackage.resource.Resource at 0x178ab4867f0>,\n",
       " <datapackage.resource.Resource at 0x178ab492c50>]"
      ]
     },
     "execution_count": 5,
     "metadata": {},
     "output_type": "execute_result"
    }
   ],
   "source": [
    "package.resources"
   ]
  },
  {
   "cell_type": "code",
   "execution_count": 6,
   "metadata": {},
   "outputs": [
    {
     "data": {
      "text/plain": [
       "['_Resource__current_descriptor',\n",
       " '_Resource__next_descriptor',\n",
       " '_Resource__base_path',\n",
       " '_Resource__package',\n",
       " '_Resource__storage',\n",
       " '_Resource__relations',\n",
       " '_Resource__strict',\n",
       " '_Resource__table',\n",
       " '_Resource__errors',\n",
       " '_Resource__source_inspection',\n",
       " '_Resource__profile',\n",
       " '__module__',\n",
       " '__init__',\n",
       " 'valid',\n",
       " 'errors',\n",
       " 'profile',\n",
       " 'descriptor',\n",
       " 'name',\n",
       " 'inline',\n",
       " 'local',\n",
       " 'remote',\n",
       " 'multipart',\n",
       " 'tabular',\n",
       " 'source',\n",
       " 'headers',\n",
       " 'schema',\n",
       " 'iter',\n",
       " 'read',\n",
       " 'check_relations',\n",
       " 'raw_iter',\n",
       " 'raw_read',\n",
       " 'infer',\n",
       " 'commit',\n",
       " 'save',\n",
       " '_Resource__build',\n",
       " '_Resource__get_table',\n",
       " '_Resource__get_relations',\n",
       " 'table',\n",
       " 'data',\n",
       " '__dict__',\n",
       " '__weakref__',\n",
       " '__doc__',\n",
       " '__repr__',\n",
       " '__hash__',\n",
       " '__str__',\n",
       " '__getattribute__',\n",
       " '__setattr__',\n",
       " '__delattr__',\n",
       " '__lt__',\n",
       " '__le__',\n",
       " '__eq__',\n",
       " '__ne__',\n",
       " '__gt__',\n",
       " '__ge__',\n",
       " '__new__',\n",
       " '__reduce_ex__',\n",
       " '__reduce__',\n",
       " '__subclasshook__',\n",
       " '__init_subclass__',\n",
       " '__format__',\n",
       " '__sizeof__',\n",
       " '__dir__',\n",
       " '__class__']"
      ]
     },
     "execution_count": 6,
     "metadata": {},
     "output_type": "execute_result"
    }
   ],
   "source": [
    "package.resources[4].__dir__()"
   ]
  },
  {
   "cell_type": "code",
   "execution_count": 7,
   "metadata": {},
   "outputs": [
    {
     "name": "stdout",
     "output_type": "stream",
     "text": [
      "[<built-in method __dir__ of Resource object at 0x00000178A7B1D668>, <built-in method __dir__ of Resource object at 0x00000178AB3C7EF0>, <built-in method __dir__ of Resource object at 0x00000178AB474FD0>, <built-in method __dir__ of Resource object at 0x00000178AB47D2E8>, <built-in method __dir__ of Resource object at 0x00000178AB4867F0>, <built-in method __dir__ of Resource object at 0x00000178AB492C50>]\n"
     ]
    }
   ],
   "source": [
    "print([res.__dir__ for res in package.resources])"
   ]
  },
  {
   "cell_type": "markdown",
   "metadata": {},
   "source": [
    "This is how the package instructs to read the csv. However, both the csvs seem to contain the same data (since shape is same and headers are the same). Only the last read data is being retained."
   ]
  },
  {
   "cell_type": "code",
   "execution_count": 8,
   "metadata": {},
   "outputs": [
    {
     "name": "stdout",
     "output_type": "stream",
     "text": [
      "Read  {'https://pkgstore.datahub.io/JohnSnowLabs/education-actual-operating-cost-per-student/education-actual-operating-cost-per-student-csv_csv/data/05a04c684b9da44cc4c4b67131b7c7f5/education-actual-operating-cost-per-student-csv_csv.csv'} (2205, 10)\n",
      "   District_ID County_Name  Operating_Cost_Per_Student     District_Number  \\\n",
      "0         1894       BAKER                     7053.37  BAKER SCH DIST 05J   \n",
      "1         1894       BAKER                     7098.46  BAKER SCH DIST 05J   \n",
      "2         1894       BAKER                     7329.99         Baker SD 5J   \n",
      "3         1894       BAKER                     7025.58         Baker SD 5J   \n",
      "4         1894       BAKER                     7475.36         Baker SD 5J   \n",
      "\n",
      "  School_Year  Student_Count  State_Student_Count  Total_Operating_Cost  \\\n",
      "0  1999-07-01         2317.0               543138           16342661.74   \n",
      "1  2000-07-01         2343.0               544245           16631694.66   \n",
      "2  2001-07-01         2199.0               549757           16118655.82   \n",
      "3  2002-07-01         2151.0               552161           15112028.86   \n",
      "4  2003-07-01         2115.0               549169           15810377.82   \n",
      "\n",
      "   State_Operating_Cost  State_Operating_Cost_Per_Student  \n",
      "0          3.556942e+09                           6548.87  \n",
      "1          3.796207e+09                           6975.18  \n",
      "2          3.966872e+09                           7215.68  \n",
      "3          3.889552e+09                           7044.24  \n",
      "4          3.970644e+09                           7230.28  \n",
      "Read  {'https://pkgstore.datahub.io/JohnSnowLabs/education-actual-operating-cost-per-student/education-actual-operating-cost-per-student-csv/05a04c684b9da44cc4c4b67131b7c7f5/data.csv'} (2205, 10)\n",
      "   District_ID County_Name  Operating_Cost_Per_Student     District_Number  \\\n",
      "0         1894       BAKER                     7053.37  BAKER SCH DIST 05J   \n",
      "1         1894       BAKER                     7098.46  BAKER SCH DIST 05J   \n",
      "2         1894       BAKER                     7329.99         Baker SD 5J   \n",
      "3         1894       BAKER                     7025.58         Baker SD 5J   \n",
      "4         1894       BAKER                     7475.36         Baker SD 5J   \n",
      "\n",
      "  School_Year  Student_Count  State_Student_Count  Total_Operating_Cost  \\\n",
      "0  1999-07-01         2317.0               543138           16342661.74   \n",
      "1  2000-07-01         2343.0               544245           16631694.66   \n",
      "2  2001-07-01         2199.0               549757           16118655.82   \n",
      "3  2002-07-01         2151.0               552161           15112028.86   \n",
      "4  2003-07-01         2115.0               549169           15810377.82   \n",
      "\n",
      "   State_Operating_Cost  State_Operating_Cost_Per_Student  \n",
      "0          3.556942e+09                           6548.87  \n",
      "1          3.796207e+09                           6975.18  \n",
      "2          3.966872e+09                           7215.68  \n",
      "3          3.889552e+09                           7044.24  \n",
      "4          3.970644e+09                           7230.28  \n"
     ]
    }
   ],
   "source": [
    "resources = package.resources\n",
    "for resource in resources:\n",
    "    if resource.tabular:\n",
    "        data = pd.read_csv(resource.descriptor['path'])\n",
    "        print (\"Read \",{resource.descriptor['path']}, data.shape)\n",
    "        print(data.head())\n",
    "        \n",
    "        "
   ]
  },
  {
   "cell_type": "code",
   "execution_count": 9,
   "metadata": {},
   "outputs": [
    {
     "data": {
      "text/html": [
       "<div>\n",
       "<style scoped>\n",
       "    .dataframe tbody tr th:only-of-type {\n",
       "        vertical-align: middle;\n",
       "    }\n",
       "\n",
       "    .dataframe tbody tr th {\n",
       "        vertical-align: top;\n",
       "    }\n",
       "\n",
       "    .dataframe thead th {\n",
       "        text-align: right;\n",
       "    }\n",
       "</style>\n",
       "<table border=\"1\" class=\"dataframe\">\n",
       "  <thead>\n",
       "    <tr style=\"text-align: right;\">\n",
       "      <th></th>\n",
       "      <th>District_ID</th>\n",
       "      <th>County_Name</th>\n",
       "      <th>Operating_Cost_Per_Student</th>\n",
       "      <th>District_Number</th>\n",
       "      <th>School_Year</th>\n",
       "      <th>Student_Count</th>\n",
       "      <th>State_Student_Count</th>\n",
       "      <th>Total_Operating_Cost</th>\n",
       "      <th>State_Operating_Cost</th>\n",
       "      <th>State_Operating_Cost_Per_Student</th>\n",
       "    </tr>\n",
       "  </thead>\n",
       "  <tbody>\n",
       "    <tr>\n",
       "      <th>0</th>\n",
       "      <td>1894</td>\n",
       "      <td>BAKER</td>\n",
       "      <td>7053.37</td>\n",
       "      <td>BAKER SCH DIST 05J</td>\n",
       "      <td>1999-07-01</td>\n",
       "      <td>2317.0</td>\n",
       "      <td>543138</td>\n",
       "      <td>16342661.74</td>\n",
       "      <td>3.556942e+09</td>\n",
       "      <td>6548.87</td>\n",
       "    </tr>\n",
       "    <tr>\n",
       "      <th>1</th>\n",
       "      <td>1894</td>\n",
       "      <td>BAKER</td>\n",
       "      <td>7098.46</td>\n",
       "      <td>BAKER SCH DIST 05J</td>\n",
       "      <td>2000-07-01</td>\n",
       "      <td>2343.0</td>\n",
       "      <td>544245</td>\n",
       "      <td>16631694.66</td>\n",
       "      <td>3.796207e+09</td>\n",
       "      <td>6975.18</td>\n",
       "    </tr>\n",
       "    <tr>\n",
       "      <th>2</th>\n",
       "      <td>1894</td>\n",
       "      <td>BAKER</td>\n",
       "      <td>7329.99</td>\n",
       "      <td>Baker SD 5J</td>\n",
       "      <td>2001-07-01</td>\n",
       "      <td>2199.0</td>\n",
       "      <td>549757</td>\n",
       "      <td>16118655.82</td>\n",
       "      <td>3.966872e+09</td>\n",
       "      <td>7215.68</td>\n",
       "    </tr>\n",
       "    <tr>\n",
       "      <th>3</th>\n",
       "      <td>1894</td>\n",
       "      <td>BAKER</td>\n",
       "      <td>7025.58</td>\n",
       "      <td>Baker SD 5J</td>\n",
       "      <td>2002-07-01</td>\n",
       "      <td>2151.0</td>\n",
       "      <td>552161</td>\n",
       "      <td>15112028.86</td>\n",
       "      <td>3.889552e+09</td>\n",
       "      <td>7044.24</td>\n",
       "    </tr>\n",
       "    <tr>\n",
       "      <th>4</th>\n",
       "      <td>1894</td>\n",
       "      <td>BAKER</td>\n",
       "      <td>7475.36</td>\n",
       "      <td>Baker SD 5J</td>\n",
       "      <td>2003-07-01</td>\n",
       "      <td>2115.0</td>\n",
       "      <td>549169</td>\n",
       "      <td>15810377.82</td>\n",
       "      <td>3.970644e+09</td>\n",
       "      <td>7230.28</td>\n",
       "    </tr>\n",
       "  </tbody>\n",
       "</table>\n",
       "</div>"
      ],
      "text/plain": [
       "   District_ID County_Name  Operating_Cost_Per_Student     District_Number  \\\n",
       "0         1894       BAKER                     7053.37  BAKER SCH DIST 05J   \n",
       "1         1894       BAKER                     7098.46  BAKER SCH DIST 05J   \n",
       "2         1894       BAKER                     7329.99         Baker SD 5J   \n",
       "3         1894       BAKER                     7025.58         Baker SD 5J   \n",
       "4         1894       BAKER                     7475.36         Baker SD 5J   \n",
       "\n",
       "  School_Year  Student_Count  State_Student_Count  Total_Operating_Cost  \\\n",
       "0  1999-07-01         2317.0               543138           16342661.74   \n",
       "1  2000-07-01         2343.0               544245           16631694.66   \n",
       "2  2001-07-01         2199.0               549757           16118655.82   \n",
       "3  2002-07-01         2151.0               552161           15112028.86   \n",
       "4  2003-07-01         2115.0               549169           15810377.82   \n",
       "\n",
       "   State_Operating_Cost  State_Operating_Cost_Per_Student  \n",
       "0          3.556942e+09                           6548.87  \n",
       "1          3.796207e+09                           6975.18  \n",
       "2          3.966872e+09                           7215.68  \n",
       "3          3.889552e+09                           7044.24  \n",
       "4          3.970644e+09                           7230.28  "
      ]
     },
     "execution_count": 9,
     "metadata": {},
     "output_type": "execute_result"
    }
   ],
   "source": [
    "data.head()"
   ]
  },
  {
   "cell_type": "markdown",
   "metadata": {},
   "source": [
    "There are 200 schools (indicated by District\\_ID and the corresponding name in District\\_Number) reported and 13 years of data for each school. District\\_ID is a number, and is more consistent than the school name in District\\Number. For example, \n"
   ]
  },
  {
   "cell_type": "code",
   "execution_count": 10,
   "metadata": {},
   "outputs": [
    {
     "data": {
      "text/plain": [
       "array(['ADRIAN SCH DIST 61', 'Adrian SD 61'], dtype=object)"
      ]
     },
     "execution_count": 10,
     "metadata": {},
     "output_type": "execute_result"
    }
   ],
   "source": [
    "data[data[\"District_ID\"]==2113][\"District_Number\"].unique()"
   ]
  },
  {
   "cell_type": "code",
   "execution_count": 11,
   "metadata": {},
   "outputs": [
    {
     "data": {
      "text/plain": [
       "200"
      ]
     },
     "execution_count": 11,
     "metadata": {},
     "output_type": "execute_result"
    }
   ],
   "source": [
    "len(data[\"District_ID\"].unique())"
   ]
  },
  {
   "cell_type": "code",
   "execution_count": 12,
   "metadata": {},
   "outputs": [
    {
     "data": {
      "text/plain": [
       "array(['1999-07-01', '2000-07-01', '2001-07-01', '2002-07-01',\n",
       "       '2003-07-01', '2004-07-01', '2005-07-01', '2006-07-01',\n",
       "       '2007-07-01', '2008-07-01', '2009-07-01', '1997-07-01',\n",
       "       '1998-07-01'], dtype=object)"
      ]
     },
     "execution_count": 12,
     "metadata": {},
     "output_type": "execute_result"
    }
   ],
   "source": [
    "data[\"School_Year\"].unique()"
   ]
  },
  {
   "cell_type": "markdown",
   "metadata": {},
   "source": [
    "First, lets try to see how big the school districts are, over the reporting period."
   ]
  },
  {
   "cell_type": "code",
   "execution_count": 13,
   "metadata": {},
   "outputs": [
    {
     "data": {
      "text/plain": [
       "District_ID\n",
       "2021        3.272727\n",
       "2051        4.818182\n",
       "2222        5.454545\n",
       "2017        9.636364\n",
       "2062        9.818182\n",
       "2109       10.090909\n",
       "1979       10.166667\n",
       "2018       12.454545\n",
       "2019       12.909091\n",
       "2016       13.111111\n",
       "2020       13.636364\n",
       "2022       16.454545\n",
       "2063       16.636364\n",
       "2115       17.727273\n",
       "2052       21.454545\n",
       "2047       27.727273\n",
       "2210       50.909091\n",
       "2012       55.818182\n",
       "2010       60.636364\n",
       "2011       60.818182\n",
       "2247       69.000000\n",
       "1896       70.272727\n",
       "2249       70.461538\n",
       "2111       71.181818\n",
       "2015       76.909091\n",
       "2114       83.090909\n",
       "2023       84.909091\n",
       "1895       92.454545\n",
       "2107       92.454545\n",
       "2248       92.727273\n",
       "            ...     \n",
       "1929     5167.636364\n",
       "2054     5678.545455\n",
       "2088     5686.545455\n",
       "2055     5790.636364\n",
       "2241     5837.454545\n",
       "2256     5957.272727\n",
       "2097     6068.000000\n",
       "2185     6364.000000\n",
       "1977     6408.454545\n",
       "2057     6611.363636\n",
       "1991     6639.909091\n",
       "1923     6953.076923\n",
       "1901     6999.272727\n",
       "1928     7936.000000\n",
       "1922     8022.909091\n",
       "2100     8504.076923\n",
       "2187     9167.000000\n",
       "2182    10312.545455\n",
       "2083    11065.000000\n",
       "2183    11881.727273\n",
       "2242    12164.363636\n",
       "2048    12593.090909\n",
       "1976    14075.076923\n",
       "1924    16391.454545\n",
       "2082    18364.230769\n",
       "2239    19334.363636\n",
       "2243    35924.363636\n",
       "2142    37273.384615\n",
       "2180    49821.384615\n",
       "2112             NaN\n",
       "Name: Student_Count, Length: 200, dtype: float64"
      ]
     },
     "execution_count": 13,
     "metadata": {},
     "output_type": "execute_result"
    }
   ],
   "source": [
    "district_group = data.groupby(\"District_ID\")\n",
    "district_avg_students = district_group[\"Student_Count\"].mean().sort_values()\n",
    "district_avg_students"
   ]
  },
  {
   "cell_type": "markdown",
   "metadata": {},
   "source": [
    "Oops, one of the schools has NaN for the number of students. We should explore this further."
   ]
  },
  {
   "cell_type": "code",
   "execution_count": 14,
   "metadata": {},
   "outputs": [
    {
     "data": {
      "text/html": [
       "<div>\n",
       "<style scoped>\n",
       "    .dataframe tbody tr th:only-of-type {\n",
       "        vertical-align: middle;\n",
       "    }\n",
       "\n",
       "    .dataframe tbody tr th {\n",
       "        vertical-align: top;\n",
       "    }\n",
       "\n",
       "    .dataframe thead th {\n",
       "        text-align: right;\n",
       "    }\n",
       "</style>\n",
       "<table border=\"1\" class=\"dataframe\">\n",
       "  <thead>\n",
       "    <tr style=\"text-align: right;\">\n",
       "      <th></th>\n",
       "      <th>District_ID</th>\n",
       "      <th>County_Name</th>\n",
       "      <th>Operating_Cost_Per_Student</th>\n",
       "      <th>District_Number</th>\n",
       "      <th>School_Year</th>\n",
       "      <th>Student_Count</th>\n",
       "      <th>State_Student_Count</th>\n",
       "      <th>Total_Operating_Cost</th>\n",
       "      <th>State_Operating_Cost</th>\n",
       "      <th>State_Operating_Cost_Per_Student</th>\n",
       "    </tr>\n",
       "  </thead>\n",
       "  <tbody>\n",
       "    <tr>\n",
       "      <th>1380</th>\n",
       "      <td>2112</td>\n",
       "      <td>MALHEUR</td>\n",
       "      <td>NaN</td>\n",
       "      <td>Malheur County SD 51</td>\n",
       "      <td>1999-07-01</td>\n",
       "      <td>NaN</td>\n",
       "      <td>543138</td>\n",
       "      <td>15134.00</td>\n",
       "      <td>3.556942e+09</td>\n",
       "      <td>6548.87</td>\n",
       "    </tr>\n",
       "    <tr>\n",
       "      <th>1381</th>\n",
       "      <td>2112</td>\n",
       "      <td>MALHEUR</td>\n",
       "      <td>NaN</td>\n",
       "      <td>Malheur County SD 51</td>\n",
       "      <td>2000-07-01</td>\n",
       "      <td>NaN</td>\n",
       "      <td>544245</td>\n",
       "      <td>18056.00</td>\n",
       "      <td>3.796207e+09</td>\n",
       "      <td>6975.18</td>\n",
       "    </tr>\n",
       "    <tr>\n",
       "      <th>1382</th>\n",
       "      <td>2112</td>\n",
       "      <td>MALHEUR</td>\n",
       "      <td>NaN</td>\n",
       "      <td>Malheur County SD 51</td>\n",
       "      <td>2001-07-01</td>\n",
       "      <td>NaN</td>\n",
       "      <td>549757</td>\n",
       "      <td>40367.00</td>\n",
       "      <td>3.966872e+09</td>\n",
       "      <td>7215.68</td>\n",
       "    </tr>\n",
       "    <tr>\n",
       "      <th>1383</th>\n",
       "      <td>2112</td>\n",
       "      <td>MALHEUR</td>\n",
       "      <td>NaN</td>\n",
       "      <td>Malheur County SD 51</td>\n",
       "      <td>2002-07-01</td>\n",
       "      <td>NaN</td>\n",
       "      <td>552161</td>\n",
       "      <td>15021.96</td>\n",
       "      <td>3.889552e+09</td>\n",
       "      <td>7044.24</td>\n",
       "    </tr>\n",
       "    <tr>\n",
       "      <th>1384</th>\n",
       "      <td>2112</td>\n",
       "      <td>MALHEUR</td>\n",
       "      <td>NaN</td>\n",
       "      <td>Malheur County SD 51</td>\n",
       "      <td>2003-07-01</td>\n",
       "      <td>NaN</td>\n",
       "      <td>549169</td>\n",
       "      <td>28592.00</td>\n",
       "      <td>3.970644e+09</td>\n",
       "      <td>7230.28</td>\n",
       "    </tr>\n",
       "    <tr>\n",
       "      <th>1385</th>\n",
       "      <td>2112</td>\n",
       "      <td>MALHEUR</td>\n",
       "      <td>NaN</td>\n",
       "      <td>Malheur County SD 51</td>\n",
       "      <td>2004-07-01</td>\n",
       "      <td>NaN</td>\n",
       "      <td>549793</td>\n",
       "      <td>10138.62</td>\n",
       "      <td>4.198535e+09</td>\n",
       "      <td>7636.57</td>\n",
       "    </tr>\n",
       "    <tr>\n",
       "      <th>1386</th>\n",
       "      <td>2112</td>\n",
       "      <td>MALHEUR</td>\n",
       "      <td>NaN</td>\n",
       "      <td>Malheur County SD 51</td>\n",
       "      <td>2005-07-01</td>\n",
       "      <td>NaN</td>\n",
       "      <td>555146</td>\n",
       "      <td>12238.13</td>\n",
       "      <td>4.513950e+09</td>\n",
       "      <td>8131.11</td>\n",
       "    </tr>\n",
       "    <tr>\n",
       "      <th>1387</th>\n",
       "      <td>2112</td>\n",
       "      <td>MALHEUR</td>\n",
       "      <td>NaN</td>\n",
       "      <td>Malheur County SD 51</td>\n",
       "      <td>2006-07-01</td>\n",
       "      <td>NaN</td>\n",
       "      <td>558366</td>\n",
       "      <td>79985.00</td>\n",
       "      <td>4.768934e+09</td>\n",
       "      <td>8540.87</td>\n",
       "    </tr>\n",
       "    <tr>\n",
       "      <th>1388</th>\n",
       "      <td>2112</td>\n",
       "      <td>MALHEUR</td>\n",
       "      <td>NaN</td>\n",
       "      <td>Malheur County SD 51</td>\n",
       "      <td>2007-07-01</td>\n",
       "      <td>NaN</td>\n",
       "      <td>561354</td>\n",
       "      <td>10715.50</td>\n",
       "      <td>5.144637e+09</td>\n",
       "      <td>9164.69</td>\n",
       "    </tr>\n",
       "    <tr>\n",
       "      <th>1389</th>\n",
       "      <td>2112</td>\n",
       "      <td>MALHEUR</td>\n",
       "      <td>NaN</td>\n",
       "      <td>Malheur County SD 51</td>\n",
       "      <td>2008-07-01</td>\n",
       "      <td>NaN</td>\n",
       "      <td>559271</td>\n",
       "      <td>14473.00</td>\n",
       "      <td>5.248233e+09</td>\n",
       "      <td>9384.06</td>\n",
       "    </tr>\n",
       "    <tr>\n",
       "      <th>1390</th>\n",
       "      <td>2112</td>\n",
       "      <td>MALHEUR</td>\n",
       "      <td>NaN</td>\n",
       "      <td>Malheur County SD 51</td>\n",
       "      <td>2009-07-01</td>\n",
       "      <td>NaN</td>\n",
       "      <td>556836</td>\n",
       "      <td>9881.00</td>\n",
       "      <td>5.162739e+09</td>\n",
       "      <td>9271.56</td>\n",
       "    </tr>\n",
       "  </tbody>\n",
       "</table>\n",
       "</div>"
      ],
      "text/plain": [
       "      District_ID County_Name  Operating_Cost_Per_Student  \\\n",
       "1380         2112     MALHEUR                         NaN   \n",
       "1381         2112     MALHEUR                         NaN   \n",
       "1382         2112     MALHEUR                         NaN   \n",
       "1383         2112     MALHEUR                         NaN   \n",
       "1384         2112     MALHEUR                         NaN   \n",
       "1385         2112     MALHEUR                         NaN   \n",
       "1386         2112     MALHEUR                         NaN   \n",
       "1387         2112     MALHEUR                         NaN   \n",
       "1388         2112     MALHEUR                         NaN   \n",
       "1389         2112     MALHEUR                         NaN   \n",
       "1390         2112     MALHEUR                         NaN   \n",
       "\n",
       "           District_Number School_Year  Student_Count  State_Student_Count  \\\n",
       "1380  Malheur County SD 51  1999-07-01            NaN               543138   \n",
       "1381  Malheur County SD 51  2000-07-01            NaN               544245   \n",
       "1382  Malheur County SD 51  2001-07-01            NaN               549757   \n",
       "1383  Malheur County SD 51  2002-07-01            NaN               552161   \n",
       "1384  Malheur County SD 51  2003-07-01            NaN               549169   \n",
       "1385  Malheur County SD 51  2004-07-01            NaN               549793   \n",
       "1386  Malheur County SD 51  2005-07-01            NaN               555146   \n",
       "1387  Malheur County SD 51  2006-07-01            NaN               558366   \n",
       "1388  Malheur County SD 51  2007-07-01            NaN               561354   \n",
       "1389  Malheur County SD 51  2008-07-01            NaN               559271   \n",
       "1390  Malheur County SD 51  2009-07-01            NaN               556836   \n",
       "\n",
       "      Total_Operating_Cost  State_Operating_Cost  \\\n",
       "1380              15134.00          3.556942e+09   \n",
       "1381              18056.00          3.796207e+09   \n",
       "1382              40367.00          3.966872e+09   \n",
       "1383              15021.96          3.889552e+09   \n",
       "1384              28592.00          3.970644e+09   \n",
       "1385              10138.62          4.198535e+09   \n",
       "1386              12238.13          4.513950e+09   \n",
       "1387              79985.00          4.768934e+09   \n",
       "1388              10715.50          5.144637e+09   \n",
       "1389              14473.00          5.248233e+09   \n",
       "1390               9881.00          5.162739e+09   \n",
       "\n",
       "      State_Operating_Cost_Per_Student  \n",
       "1380                           6548.87  \n",
       "1381                           6975.18  \n",
       "1382                           7215.68  \n",
       "1383                           7044.24  \n",
       "1384                           7230.28  \n",
       "1385                           7636.57  \n",
       "1386                           8131.11  \n",
       "1387                           8540.87  \n",
       "1388                           9164.69  \n",
       "1389                           9384.06  \n",
       "1390                           9271.56  "
      ]
     },
     "execution_count": 14,
     "metadata": {},
     "output_type": "execute_result"
    }
   ],
   "source": [
    "data[data[\"District_ID\"]==2112]\n"
   ]
  },
  {
   "cell_type": "code",
   "execution_count": 15,
   "metadata": {},
   "outputs": [
    {
     "name": "stdout",
     "output_type": "stream",
     "text": [
      "<class 'pandas.core.frame.DataFrame'>\n",
      "RangeIndex: 2205 entries, 0 to 2204\n",
      "Data columns (total 10 columns):\n",
      "District_ID                         2205 non-null int64\n",
      "County_Name                         2205 non-null object\n",
      "Operating_Cost_Per_Student          2190 non-null float64\n",
      "District_Number                     2205 non-null object\n",
      "School_Year                         2205 non-null object\n",
      "Student_Count                       2190 non-null float64\n",
      "State_Student_Count                 2205 non-null int64\n",
      "Total_Operating_Cost                2205 non-null float64\n",
      "State_Operating_Cost                2205 non-null float64\n",
      "State_Operating_Cost_Per_Student    2205 non-null float64\n",
      "dtypes: float64(5), int64(2), object(3)\n",
      "memory usage: 172.3+ KB\n"
     ]
    }
   ],
   "source": [
    "data.info()"
   ]
  },
  {
   "cell_type": "code",
   "execution_count": 16,
   "metadata": {},
   "outputs": [
    {
     "data": {
      "text/html": [
       "<div>\n",
       "<style scoped>\n",
       "    .dataframe tbody tr th:only-of-type {\n",
       "        vertical-align: middle;\n",
       "    }\n",
       "\n",
       "    .dataframe tbody tr th {\n",
       "        vertical-align: top;\n",
       "    }\n",
       "\n",
       "    .dataframe thead th {\n",
       "        text-align: right;\n",
       "    }\n",
       "</style>\n",
       "<table border=\"1\" class=\"dataframe\">\n",
       "  <thead>\n",
       "    <tr style=\"text-align: right;\">\n",
       "      <th></th>\n",
       "      <th>District_ID</th>\n",
       "      <th>County_Name</th>\n",
       "      <th>Operating_Cost_Per_Student</th>\n",
       "      <th>District_Number</th>\n",
       "      <th>School_Year</th>\n",
       "      <th>Student_Count</th>\n",
       "      <th>State_Student_Count</th>\n",
       "      <th>Total_Operating_Cost</th>\n",
       "      <th>State_Operating_Cost</th>\n",
       "      <th>State_Operating_Cost_Per_Student</th>\n",
       "    </tr>\n",
       "  </thead>\n",
       "  <tbody>\n",
       "    <tr>\n",
       "      <th>451</th>\n",
       "      <td>1979</td>\n",
       "      <td>DESCHUTES</td>\n",
       "      <td>NaN</td>\n",
       "      <td>BROTHERS SCH DIST 15</td>\n",
       "      <td>2005-07-01</td>\n",
       "      <td>NaN</td>\n",
       "      <td>555146</td>\n",
       "      <td>162657.73</td>\n",
       "      <td>4.513950e+09</td>\n",
       "      <td>8131.11</td>\n",
       "    </tr>\n",
       "    <tr>\n",
       "      <th>716</th>\n",
       "      <td>2016</td>\n",
       "      <td>HARNEY</td>\n",
       "      <td>NaN</td>\n",
       "      <td>Pine Creek SD 5</td>\n",
       "      <td>2008-07-01</td>\n",
       "      <td>NaN</td>\n",
       "      <td>559271</td>\n",
       "      <td>85465.69</td>\n",
       "      <td>5.248233e+09</td>\n",
       "      <td>9384.06</td>\n",
       "    </tr>\n",
       "    <tr>\n",
       "      <th>717</th>\n",
       "      <td>2016</td>\n",
       "      <td>HARNEY</td>\n",
       "      <td>NaN</td>\n",
       "      <td>Pine Creek SD 5</td>\n",
       "      <td>2009-07-01</td>\n",
       "      <td>NaN</td>\n",
       "      <td>556836</td>\n",
       "      <td>95645.38</td>\n",
       "      <td>5.162739e+09</td>\n",
       "      <td>9271.56</td>\n",
       "    </tr>\n",
       "    <tr>\n",
       "      <th>1380</th>\n",
       "      <td>2112</td>\n",
       "      <td>MALHEUR</td>\n",
       "      <td>NaN</td>\n",
       "      <td>Malheur County SD 51</td>\n",
       "      <td>1999-07-01</td>\n",
       "      <td>NaN</td>\n",
       "      <td>543138</td>\n",
       "      <td>15134.00</td>\n",
       "      <td>3.556942e+09</td>\n",
       "      <td>6548.87</td>\n",
       "    </tr>\n",
       "    <tr>\n",
       "      <th>1381</th>\n",
       "      <td>2112</td>\n",
       "      <td>MALHEUR</td>\n",
       "      <td>NaN</td>\n",
       "      <td>Malheur County SD 51</td>\n",
       "      <td>2000-07-01</td>\n",
       "      <td>NaN</td>\n",
       "      <td>544245</td>\n",
       "      <td>18056.00</td>\n",
       "      <td>3.796207e+09</td>\n",
       "      <td>6975.18</td>\n",
       "    </tr>\n",
       "    <tr>\n",
       "      <th>1382</th>\n",
       "      <td>2112</td>\n",
       "      <td>MALHEUR</td>\n",
       "      <td>NaN</td>\n",
       "      <td>Malheur County SD 51</td>\n",
       "      <td>2001-07-01</td>\n",
       "      <td>NaN</td>\n",
       "      <td>549757</td>\n",
       "      <td>40367.00</td>\n",
       "      <td>3.966872e+09</td>\n",
       "      <td>7215.68</td>\n",
       "    </tr>\n",
       "    <tr>\n",
       "      <th>1383</th>\n",
       "      <td>2112</td>\n",
       "      <td>MALHEUR</td>\n",
       "      <td>NaN</td>\n",
       "      <td>Malheur County SD 51</td>\n",
       "      <td>2002-07-01</td>\n",
       "      <td>NaN</td>\n",
       "      <td>552161</td>\n",
       "      <td>15021.96</td>\n",
       "      <td>3.889552e+09</td>\n",
       "      <td>7044.24</td>\n",
       "    </tr>\n",
       "    <tr>\n",
       "      <th>1384</th>\n",
       "      <td>2112</td>\n",
       "      <td>MALHEUR</td>\n",
       "      <td>NaN</td>\n",
       "      <td>Malheur County SD 51</td>\n",
       "      <td>2003-07-01</td>\n",
       "      <td>NaN</td>\n",
       "      <td>549169</td>\n",
       "      <td>28592.00</td>\n",
       "      <td>3.970644e+09</td>\n",
       "      <td>7230.28</td>\n",
       "    </tr>\n",
       "    <tr>\n",
       "      <th>1385</th>\n",
       "      <td>2112</td>\n",
       "      <td>MALHEUR</td>\n",
       "      <td>NaN</td>\n",
       "      <td>Malheur County SD 51</td>\n",
       "      <td>2004-07-01</td>\n",
       "      <td>NaN</td>\n",
       "      <td>549793</td>\n",
       "      <td>10138.62</td>\n",
       "      <td>4.198535e+09</td>\n",
       "      <td>7636.57</td>\n",
       "    </tr>\n",
       "    <tr>\n",
       "      <th>1386</th>\n",
       "      <td>2112</td>\n",
       "      <td>MALHEUR</td>\n",
       "      <td>NaN</td>\n",
       "      <td>Malheur County SD 51</td>\n",
       "      <td>2005-07-01</td>\n",
       "      <td>NaN</td>\n",
       "      <td>555146</td>\n",
       "      <td>12238.13</td>\n",
       "      <td>4.513950e+09</td>\n",
       "      <td>8131.11</td>\n",
       "    </tr>\n",
       "    <tr>\n",
       "      <th>1387</th>\n",
       "      <td>2112</td>\n",
       "      <td>MALHEUR</td>\n",
       "      <td>NaN</td>\n",
       "      <td>Malheur County SD 51</td>\n",
       "      <td>2006-07-01</td>\n",
       "      <td>NaN</td>\n",
       "      <td>558366</td>\n",
       "      <td>79985.00</td>\n",
       "      <td>4.768934e+09</td>\n",
       "      <td>8540.87</td>\n",
       "    </tr>\n",
       "    <tr>\n",
       "      <th>1388</th>\n",
       "      <td>2112</td>\n",
       "      <td>MALHEUR</td>\n",
       "      <td>NaN</td>\n",
       "      <td>Malheur County SD 51</td>\n",
       "      <td>2007-07-01</td>\n",
       "      <td>NaN</td>\n",
       "      <td>561354</td>\n",
       "      <td>10715.50</td>\n",
       "      <td>5.144637e+09</td>\n",
       "      <td>9164.69</td>\n",
       "    </tr>\n",
       "    <tr>\n",
       "      <th>1389</th>\n",
       "      <td>2112</td>\n",
       "      <td>MALHEUR</td>\n",
       "      <td>NaN</td>\n",
       "      <td>Malheur County SD 51</td>\n",
       "      <td>2008-07-01</td>\n",
       "      <td>NaN</td>\n",
       "      <td>559271</td>\n",
       "      <td>14473.00</td>\n",
       "      <td>5.248233e+09</td>\n",
       "      <td>9384.06</td>\n",
       "    </tr>\n",
       "    <tr>\n",
       "      <th>1390</th>\n",
       "      <td>2112</td>\n",
       "      <td>MALHEUR</td>\n",
       "      <td>NaN</td>\n",
       "      <td>Malheur County SD 51</td>\n",
       "      <td>2009-07-01</td>\n",
       "      <td>NaN</td>\n",
       "      <td>556836</td>\n",
       "      <td>9881.00</td>\n",
       "      <td>5.162739e+09</td>\n",
       "      <td>9271.56</td>\n",
       "    </tr>\n",
       "    <tr>\n",
       "      <th>2198</th>\n",
       "      <td>4131</td>\n",
       "      <td>WASCO</td>\n",
       "      <td>NaN</td>\n",
       "      <td>North Wasco SD 21</td>\n",
       "      <td>2003-07-01</td>\n",
       "      <td>NaN</td>\n",
       "      <td>549169</td>\n",
       "      <td>126764.24</td>\n",
       "      <td>3.970644e+09</td>\n",
       "      <td>7230.28</td>\n",
       "    </tr>\n",
       "  </tbody>\n",
       "</table>\n",
       "</div>"
      ],
      "text/plain": [
       "      District_ID County_Name  Operating_Cost_Per_Student  \\\n",
       "451          1979   DESCHUTES                         NaN   \n",
       "716          2016      HARNEY                         NaN   \n",
       "717          2016      HARNEY                         NaN   \n",
       "1380         2112     MALHEUR                         NaN   \n",
       "1381         2112     MALHEUR                         NaN   \n",
       "1382         2112     MALHEUR                         NaN   \n",
       "1383         2112     MALHEUR                         NaN   \n",
       "1384         2112     MALHEUR                         NaN   \n",
       "1385         2112     MALHEUR                         NaN   \n",
       "1386         2112     MALHEUR                         NaN   \n",
       "1387         2112     MALHEUR                         NaN   \n",
       "1388         2112     MALHEUR                         NaN   \n",
       "1389         2112     MALHEUR                         NaN   \n",
       "1390         2112     MALHEUR                         NaN   \n",
       "2198         4131       WASCO                         NaN   \n",
       "\n",
       "           District_Number School_Year  Student_Count  State_Student_Count  \\\n",
       "451   BROTHERS SCH DIST 15  2005-07-01            NaN               555146   \n",
       "716        Pine Creek SD 5  2008-07-01            NaN               559271   \n",
       "717        Pine Creek SD 5  2009-07-01            NaN               556836   \n",
       "1380  Malheur County SD 51  1999-07-01            NaN               543138   \n",
       "1381  Malheur County SD 51  2000-07-01            NaN               544245   \n",
       "1382  Malheur County SD 51  2001-07-01            NaN               549757   \n",
       "1383  Malheur County SD 51  2002-07-01            NaN               552161   \n",
       "1384  Malheur County SD 51  2003-07-01            NaN               549169   \n",
       "1385  Malheur County SD 51  2004-07-01            NaN               549793   \n",
       "1386  Malheur County SD 51  2005-07-01            NaN               555146   \n",
       "1387  Malheur County SD 51  2006-07-01            NaN               558366   \n",
       "1388  Malheur County SD 51  2007-07-01            NaN               561354   \n",
       "1389  Malheur County SD 51  2008-07-01            NaN               559271   \n",
       "1390  Malheur County SD 51  2009-07-01            NaN               556836   \n",
       "2198     North Wasco SD 21  2003-07-01            NaN               549169   \n",
       "\n",
       "      Total_Operating_Cost  State_Operating_Cost  \\\n",
       "451              162657.73          4.513950e+09   \n",
       "716               85465.69          5.248233e+09   \n",
       "717               95645.38          5.162739e+09   \n",
       "1380              15134.00          3.556942e+09   \n",
       "1381              18056.00          3.796207e+09   \n",
       "1382              40367.00          3.966872e+09   \n",
       "1383              15021.96          3.889552e+09   \n",
       "1384              28592.00          3.970644e+09   \n",
       "1385              10138.62          4.198535e+09   \n",
       "1386              12238.13          4.513950e+09   \n",
       "1387              79985.00          4.768934e+09   \n",
       "1388              10715.50          5.144637e+09   \n",
       "1389              14473.00          5.248233e+09   \n",
       "1390               9881.00          5.162739e+09   \n",
       "2198             126764.24          3.970644e+09   \n",
       "\n",
       "      State_Operating_Cost_Per_Student  \n",
       "451                            8131.11  \n",
       "716                            9384.06  \n",
       "717                            9271.56  \n",
       "1380                           6548.87  \n",
       "1381                           6975.18  \n",
       "1382                           7215.68  \n",
       "1383                           7044.24  \n",
       "1384                           7230.28  \n",
       "1385                           7636.57  \n",
       "1386                           8131.11  \n",
       "1387                           8540.87  \n",
       "1388                           9164.69  \n",
       "1389                           9384.06  \n",
       "1390                           9271.56  \n",
       "2198                           7230.28  "
      ]
     },
     "execution_count": 16,
     "metadata": {},
     "output_type": "execute_result"
    }
   ],
   "source": [
    "data[data.isnull().any(axis=1)]"
   ]
  },
  {
   "cell_type": "code",
   "execution_count": 17,
   "metadata": {},
   "outputs": [
    {
     "data": {
      "text/plain": [
       "15"
      ]
     },
     "execution_count": 17,
     "metadata": {},
     "output_type": "execute_result"
    }
   ],
   "source": [
    "len(data[data.isnull().any(axis=1)])"
   ]
  },
  {
   "cell_type": "code",
   "execution_count": 18,
   "metadata": {},
   "outputs": [
    {
     "data": {
      "text/plain": [
       "array(['BROTHERS SCH DIST 15', 'Pine Creek SD 5', 'Malheur County SD 51',\n",
       "       'North Wasco SD 21'], dtype=object)"
      ]
     },
     "execution_count": 18,
     "metadata": {},
     "output_type": "execute_result"
    }
   ],
   "source": [
    "data[data.isnull().any(axis=1)][\"District_Number\"].unique()"
   ]
  },
  {
   "cell_type": "markdown",
   "metadata": {},
   "source": [
    "Its not just one school that has missing data, 4 schools have missing data, over 15 rows. Since there is no other way for us to retrieve the data, dropping the missing data for now."
   ]
  },
  {
   "cell_type": "code",
   "execution_count": 19,
   "metadata": {},
   "outputs": [
    {
     "data": {
      "text/plain": [
       "(2190, 10)"
      ]
     },
     "execution_count": 19,
     "metadata": {},
     "output_type": "execute_result"
    }
   ],
   "source": [
    "clean_data = data.dropna()\n",
    "clean_data.shape"
   ]
  },
  {
   "cell_type": "markdown",
   "metadata": {},
   "source": [
    "Looking through the average student count again, there are schools with 3 or 4 students on average. The District_ID for the school with 3 students is \"2021\". The column indicating \"District_Number\" is actually the name of the school, \"Double O\". Some google searches, lead me to \n",
    "https://www.schooldigger.com/go/OR/schools/0429000372/school.aspx\n",
    "\n",
    "which indicates that the student population has been ranging from 2 to 4 from 2009-2016. Even though the schooldigger.com information does not cover the same time period, this gives reasonable confidence that the data we have is correct. "
   ]
  },
  {
   "cell_type": "code",
   "execution_count": 20,
   "metadata": {},
   "outputs": [
    {
     "data": {
      "text/html": [
       "<div>\n",
       "<style scoped>\n",
       "    .dataframe tbody tr th:only-of-type {\n",
       "        vertical-align: middle;\n",
       "    }\n",
       "\n",
       "    .dataframe tbody tr th {\n",
       "        vertical-align: top;\n",
       "    }\n",
       "\n",
       "    .dataframe thead th {\n",
       "        text-align: right;\n",
       "    }\n",
       "</style>\n",
       "<table border=\"1\" class=\"dataframe\">\n",
       "  <thead>\n",
       "    <tr style=\"text-align: right;\">\n",
       "      <th></th>\n",
       "      <th>District_ID</th>\n",
       "      <th>County_Name</th>\n",
       "      <th>Operating_Cost_Per_Student</th>\n",
       "      <th>District_Number</th>\n",
       "      <th>School_Year</th>\n",
       "      <th>Student_Count</th>\n",
       "      <th>State_Student_Count</th>\n",
       "      <th>Total_Operating_Cost</th>\n",
       "      <th>State_Operating_Cost</th>\n",
       "      <th>State_Operating_Cost_Per_Student</th>\n",
       "    </tr>\n",
       "  </thead>\n",
       "  <tbody>\n",
       "    <tr>\n",
       "      <th>762</th>\n",
       "      <td>2021</td>\n",
       "      <td>HARNEY</td>\n",
       "      <td>23115.00</td>\n",
       "      <td>Double O SD 28</td>\n",
       "      <td>1999-07-01</td>\n",
       "      <td>4.0</td>\n",
       "      <td>543138</td>\n",
       "      <td>92460.00</td>\n",
       "      <td>3.556942e+09</td>\n",
       "      <td>6548.87</td>\n",
       "    </tr>\n",
       "    <tr>\n",
       "      <th>763</th>\n",
       "      <td>2021</td>\n",
       "      <td>HARNEY</td>\n",
       "      <td>27522.21</td>\n",
       "      <td>Double O SD 28</td>\n",
       "      <td>2000-07-01</td>\n",
       "      <td>4.0</td>\n",
       "      <td>544245</td>\n",
       "      <td>110088.83</td>\n",
       "      <td>3.796207e+09</td>\n",
       "      <td>6975.18</td>\n",
       "    </tr>\n",
       "    <tr>\n",
       "      <th>764</th>\n",
       "      <td>2021</td>\n",
       "      <td>HARNEY</td>\n",
       "      <td>30264.68</td>\n",
       "      <td>Double O SD 28</td>\n",
       "      <td>2001-07-01</td>\n",
       "      <td>4.0</td>\n",
       "      <td>549757</td>\n",
       "      <td>121058.73</td>\n",
       "      <td>3.966872e+09</td>\n",
       "      <td>7215.68</td>\n",
       "    </tr>\n",
       "    <tr>\n",
       "      <th>765</th>\n",
       "      <td>2021</td>\n",
       "      <td>HARNEY</td>\n",
       "      <td>25896.27</td>\n",
       "      <td>Double O SD 28</td>\n",
       "      <td>2002-07-01</td>\n",
       "      <td>6.0</td>\n",
       "      <td>552161</td>\n",
       "      <td>155377.62</td>\n",
       "      <td>3.889552e+09</td>\n",
       "      <td>7044.24</td>\n",
       "    </tr>\n",
       "    <tr>\n",
       "      <th>766</th>\n",
       "      <td>2021</td>\n",
       "      <td>HARNEY</td>\n",
       "      <td>31900.96</td>\n",
       "      <td>Double O SD 28</td>\n",
       "      <td>2003-07-01</td>\n",
       "      <td>4.0</td>\n",
       "      <td>549169</td>\n",
       "      <td>127603.85</td>\n",
       "      <td>3.970644e+09</td>\n",
       "      <td>7230.28</td>\n",
       "    </tr>\n",
       "    <tr>\n",
       "      <th>767</th>\n",
       "      <td>2021</td>\n",
       "      <td>HARNEY</td>\n",
       "      <td>29826.82</td>\n",
       "      <td>Double O SD 28</td>\n",
       "      <td>2004-07-01</td>\n",
       "      <td>5.0</td>\n",
       "      <td>549793</td>\n",
       "      <td>149134.09</td>\n",
       "      <td>4.198535e+09</td>\n",
       "      <td>7636.57</td>\n",
       "    </tr>\n",
       "    <tr>\n",
       "      <th>768</th>\n",
       "      <td>2021</td>\n",
       "      <td>HARNEY</td>\n",
       "      <td>120444.65</td>\n",
       "      <td>Double O SD 28</td>\n",
       "      <td>2005-07-01</td>\n",
       "      <td>1.0</td>\n",
       "      <td>555146</td>\n",
       "      <td>120444.65</td>\n",
       "      <td>4.513950e+09</td>\n",
       "      <td>8131.11</td>\n",
       "    </tr>\n",
       "    <tr>\n",
       "      <th>769</th>\n",
       "      <td>2021</td>\n",
       "      <td>HARNEY</td>\n",
       "      <td>61425.21</td>\n",
       "      <td>Double O SD 28</td>\n",
       "      <td>2006-07-01</td>\n",
       "      <td>2.0</td>\n",
       "      <td>558366</td>\n",
       "      <td>122850.41</td>\n",
       "      <td>4.768934e+09</td>\n",
       "      <td>8540.87</td>\n",
       "    </tr>\n",
       "    <tr>\n",
       "      <th>770</th>\n",
       "      <td>2021</td>\n",
       "      <td>HARNEY</td>\n",
       "      <td>125242.63</td>\n",
       "      <td>Double O SD 28</td>\n",
       "      <td>2007-07-01</td>\n",
       "      <td>1.0</td>\n",
       "      <td>561354</td>\n",
       "      <td>125242.63</td>\n",
       "      <td>5.144637e+09</td>\n",
       "      <td>9164.69</td>\n",
       "    </tr>\n",
       "    <tr>\n",
       "      <th>771</th>\n",
       "      <td>2021</td>\n",
       "      <td>HARNEY</td>\n",
       "      <td>40751.10</td>\n",
       "      <td>Double O SD 28</td>\n",
       "      <td>2008-07-01</td>\n",
       "      <td>3.0</td>\n",
       "      <td>559271</td>\n",
       "      <td>122253.29</td>\n",
       "      <td>5.248233e+09</td>\n",
       "      <td>9384.06</td>\n",
       "    </tr>\n",
       "    <tr>\n",
       "      <th>772</th>\n",
       "      <td>2021</td>\n",
       "      <td>HARNEY</td>\n",
       "      <td>62407.58</td>\n",
       "      <td>Double O SD 28</td>\n",
       "      <td>2009-07-01</td>\n",
       "      <td>2.0</td>\n",
       "      <td>556836</td>\n",
       "      <td>124815.16</td>\n",
       "      <td>5.162739e+09</td>\n",
       "      <td>9271.56</td>\n",
       "    </tr>\n",
       "  </tbody>\n",
       "</table>\n",
       "</div>"
      ],
      "text/plain": [
       "     District_ID County_Name  Operating_Cost_Per_Student District_Number  \\\n",
       "762         2021      HARNEY                    23115.00  Double O SD 28   \n",
       "763         2021      HARNEY                    27522.21  Double O SD 28   \n",
       "764         2021      HARNEY                    30264.68  Double O SD 28   \n",
       "765         2021      HARNEY                    25896.27  Double O SD 28   \n",
       "766         2021      HARNEY                    31900.96  Double O SD 28   \n",
       "767         2021      HARNEY                    29826.82  Double O SD 28   \n",
       "768         2021      HARNEY                   120444.65  Double O SD 28   \n",
       "769         2021      HARNEY                    61425.21  Double O SD 28   \n",
       "770         2021      HARNEY                   125242.63  Double O SD 28   \n",
       "771         2021      HARNEY                    40751.10  Double O SD 28   \n",
       "772         2021      HARNEY                    62407.58  Double O SD 28   \n",
       "\n",
       "    School_Year  Student_Count  State_Student_Count  Total_Operating_Cost  \\\n",
       "762  1999-07-01            4.0               543138              92460.00   \n",
       "763  2000-07-01            4.0               544245             110088.83   \n",
       "764  2001-07-01            4.0               549757             121058.73   \n",
       "765  2002-07-01            6.0               552161             155377.62   \n",
       "766  2003-07-01            4.0               549169             127603.85   \n",
       "767  2004-07-01            5.0               549793             149134.09   \n",
       "768  2005-07-01            1.0               555146             120444.65   \n",
       "769  2006-07-01            2.0               558366             122850.41   \n",
       "770  2007-07-01            1.0               561354             125242.63   \n",
       "771  2008-07-01            3.0               559271             122253.29   \n",
       "772  2009-07-01            2.0               556836             124815.16   \n",
       "\n",
       "     State_Operating_Cost  State_Operating_Cost_Per_Student  \n",
       "762          3.556942e+09                           6548.87  \n",
       "763          3.796207e+09                           6975.18  \n",
       "764          3.966872e+09                           7215.68  \n",
       "765          3.889552e+09                           7044.24  \n",
       "766          3.970644e+09                           7230.28  \n",
       "767          4.198535e+09                           7636.57  \n",
       "768          4.513950e+09                           8131.11  \n",
       "769          4.768934e+09                           8540.87  \n",
       "770          5.144637e+09                           9164.69  \n",
       "771          5.248233e+09                           9384.06  \n",
       "772          5.162739e+09                           9271.56  "
      ]
     },
     "execution_count": 20,
     "metadata": {},
     "output_type": "execute_result"
    }
   ],
   "source": [
    "clean_data[clean_data[\"District_ID\"]==2021]"
   ]
  },
  {
   "cell_type": "code",
   "execution_count": 21,
   "metadata": {},
   "outputs": [
    {
     "data": {
      "text/plain": [
       "array(['CRANE SCH DIST 4', 'Harney County SD 4', 'PINE CREEK SCH DIST 5',\n",
       "       'Pine Creek SD 5', 'Diamond SD 7', 'SUNTEX SCH DIST 10',\n",
       "       'Suntex SD 10', 'DREWSEY SCH DIST 013', 'Drewsey SD 13',\n",
       "       'Frenchglen SD 16', 'Double O SD 28', 'South Harney SD 33',\n",
       "       'CRANE UHS DIST 1J', 'Harney County Union High SD 1J'],\n",
       "      dtype=object)"
      ]
     },
     "execution_count": 21,
     "metadata": {},
     "output_type": "execute_result"
    }
   ],
   "source": [
    "clean_data[(clean_data[\"County_Name\"]==\"HARNEY\") & (clean_data[\"Student_Count\"]<100)][\"District_Number\"].unique()"
   ]
  },
  {
   "cell_type": "markdown",
   "metadata": {},
   "source": [
    "Looking at the County_Name \"HARNEY\", 9 schools have less than 100 students on average. A google search reveals that Harney is a Education Serrvice District (ESD) has been created to service multiple small schools. This includes Crane Union High School the only high school which services 7500 square miles. It is a boarding school which had 53 students in 2008 according to wikipedia. This shows that there are quite a few schools with less than 100 students. This dataset shows that there are 31 schools which have had less than 100 students average during the reporting period."
   ]
  },
  {
   "cell_type": "code",
   "execution_count": 22,
   "metadata": {},
   "outputs": [
    {
     "data": {
      "text/plain": [
       "31"
      ]
     },
     "execution_count": 22,
     "metadata": {},
     "output_type": "execute_result"
    }
   ],
   "source": [
    "district_avg_students[district_avg_students<100].count()"
   ]
  },
  {
   "cell_type": "markdown",
   "metadata": {},
   "source": [
    "Lets now group by \"School\\_Year\", and see if the data is OK or not. The \"State\\_\" numbers should be the same for all schools for each year. That is, the number of unique elements should be 1 always."
   ]
  },
  {
   "cell_type": "code",
   "execution_count": 23,
   "metadata": {},
   "outputs": [
    {
     "name": "stdout",
     "output_type": "stream",
     "text": [
      "[School_Year\n",
      "1997-07-01    [539105]\n",
      "1998-07-01    [540605]\n",
      "1999-07-01    [543138]\n",
      "2000-07-01    [544245]\n",
      "2001-07-01    [549757]\n",
      "2002-07-01    [552161]\n",
      "2003-07-01    [549169]\n",
      "2004-07-01    [549793]\n",
      "2005-07-01    [555146]\n",
      "2006-07-01    [558366]\n",
      "2007-07-01    [561354]\n",
      "2008-07-01    [559271]\n",
      "2009-07-01    [556836]\n",
      "Name: State_Student_Count, dtype: object, School_Year\n",
      "1997-07-01     [948447366.8]\n",
      "1998-07-01    [1012656852.0]\n",
      "1999-07-01    [3556941887.0]\n",
      "2000-07-01    [3796207419.0]\n",
      "2001-07-01    [3966871635.0]\n",
      "2002-07-01    [3889552066.0]\n",
      "2003-07-01    [3970643658.0]\n",
      "2004-07-01    [4198534677.0]\n",
      "2005-07-01    [4513950429.0]\n",
      "2006-07-01    [4768933787.0]\n",
      "2007-07-01    [5144636555.0]\n",
      "2008-07-01    [5248233458.0]\n",
      "2009-07-01    [5162739221.0]\n",
      "Name: State_Operating_Cost, dtype: object, School_Year\n",
      "1997-07-01     [1759.3]\n",
      "1998-07-01    [1873.19]\n",
      "1999-07-01    [6548.87]\n",
      "2000-07-01    [6975.18]\n",
      "2001-07-01    [7215.68]\n",
      "2002-07-01    [7044.24]\n",
      "2003-07-01    [7230.28]\n",
      "2004-07-01    [7636.57]\n",
      "2005-07-01    [8131.11]\n",
      "2006-07-01    [8540.87]\n",
      "2007-07-01    [9164.69]\n",
      "2008-07-01    [9384.06]\n",
      "2009-07-01    [9271.56]\n",
      "Name: State_Operating_Cost_Per_Student, dtype: object]\n"
     ]
    }
   ],
   "source": [
    "year_group = clean_data.groupby(\"School_Year\")\n",
    "list_of_series = []\n",
    "state_list = [ \"State_Student_Count\", \"State_Operating_Cost\",\"State_Operating_Cost_Per_Student\"]\n",
    "for col in state_list:\n",
    "    # print(col, \":\\n\", year_group[col].unique())\n",
    "    list_of_series.append(year_group[col].unique())\n",
    "print(list_of_series) "
   ]
  },
  {
   "cell_type": "markdown",
   "metadata": {},
   "source": [
    "So, clean\\_data seems OK, no more inconsistencies found, lets plot some data to see trends. The unique() operation above returned a list of a single element, so using \"applymap\" to make it a regular number."
   ]
  },
  {
   "cell_type": "code",
   "execution_count": 24,
   "metadata": {},
   "outputs": [
    {
     "data": {
      "text/html": [
       "<div>\n",
       "<style scoped>\n",
       "    .dataframe tbody tr th:only-of-type {\n",
       "        vertical-align: middle;\n",
       "    }\n",
       "\n",
       "    .dataframe tbody tr th {\n",
       "        vertical-align: top;\n",
       "    }\n",
       "\n",
       "    .dataframe thead th {\n",
       "        text-align: right;\n",
       "    }\n",
       "</style>\n",
       "<table border=\"1\" class=\"dataframe\">\n",
       "  <thead>\n",
       "    <tr style=\"text-align: right;\">\n",
       "      <th></th>\n",
       "      <th>State_Student_Count</th>\n",
       "      <th>State_Operating_Cost</th>\n",
       "      <th>State_Operating_Cost_Per_Student</th>\n",
       "    </tr>\n",
       "    <tr>\n",
       "      <th>School_Year</th>\n",
       "      <th></th>\n",
       "      <th></th>\n",
       "      <th></th>\n",
       "    </tr>\n",
       "  </thead>\n",
       "  <tbody>\n",
       "    <tr>\n",
       "      <th>1997-07-01</th>\n",
       "      <td>539105</td>\n",
       "      <td>9.484474e+08</td>\n",
       "      <td>1759.30</td>\n",
       "    </tr>\n",
       "    <tr>\n",
       "      <th>1998-07-01</th>\n",
       "      <td>540605</td>\n",
       "      <td>1.012657e+09</td>\n",
       "      <td>1873.19</td>\n",
       "    </tr>\n",
       "    <tr>\n",
       "      <th>1999-07-01</th>\n",
       "      <td>543138</td>\n",
       "      <td>3.556942e+09</td>\n",
       "      <td>6548.87</td>\n",
       "    </tr>\n",
       "    <tr>\n",
       "      <th>2000-07-01</th>\n",
       "      <td>544245</td>\n",
       "      <td>3.796207e+09</td>\n",
       "      <td>6975.18</td>\n",
       "    </tr>\n",
       "    <tr>\n",
       "      <th>2001-07-01</th>\n",
       "      <td>549757</td>\n",
       "      <td>3.966872e+09</td>\n",
       "      <td>7215.68</td>\n",
       "    </tr>\n",
       "    <tr>\n",
       "      <th>2002-07-01</th>\n",
       "      <td>552161</td>\n",
       "      <td>3.889552e+09</td>\n",
       "      <td>7044.24</td>\n",
       "    </tr>\n",
       "    <tr>\n",
       "      <th>2003-07-01</th>\n",
       "      <td>549169</td>\n",
       "      <td>3.970644e+09</td>\n",
       "      <td>7230.28</td>\n",
       "    </tr>\n",
       "    <tr>\n",
       "      <th>2004-07-01</th>\n",
       "      <td>549793</td>\n",
       "      <td>4.198535e+09</td>\n",
       "      <td>7636.57</td>\n",
       "    </tr>\n",
       "    <tr>\n",
       "      <th>2005-07-01</th>\n",
       "      <td>555146</td>\n",
       "      <td>4.513950e+09</td>\n",
       "      <td>8131.11</td>\n",
       "    </tr>\n",
       "    <tr>\n",
       "      <th>2006-07-01</th>\n",
       "      <td>558366</td>\n",
       "      <td>4.768934e+09</td>\n",
       "      <td>8540.87</td>\n",
       "    </tr>\n",
       "    <tr>\n",
       "      <th>2007-07-01</th>\n",
       "      <td>561354</td>\n",
       "      <td>5.144637e+09</td>\n",
       "      <td>9164.69</td>\n",
       "    </tr>\n",
       "    <tr>\n",
       "      <th>2008-07-01</th>\n",
       "      <td>559271</td>\n",
       "      <td>5.248233e+09</td>\n",
       "      <td>9384.06</td>\n",
       "    </tr>\n",
       "    <tr>\n",
       "      <th>2009-07-01</th>\n",
       "      <td>556836</td>\n",
       "      <td>5.162739e+09</td>\n",
       "      <td>9271.56</td>\n",
       "    </tr>\n",
       "  </tbody>\n",
       "</table>\n",
       "</div>"
      ],
      "text/plain": [
       "             State_Student_Count  State_Operating_Cost  \\\n",
       "School_Year                                              \n",
       "1997-07-01                539105          9.484474e+08   \n",
       "1998-07-01                540605          1.012657e+09   \n",
       "1999-07-01                543138          3.556942e+09   \n",
       "2000-07-01                544245          3.796207e+09   \n",
       "2001-07-01                549757          3.966872e+09   \n",
       "2002-07-01                552161          3.889552e+09   \n",
       "2003-07-01                549169          3.970644e+09   \n",
       "2004-07-01                549793          4.198535e+09   \n",
       "2005-07-01                555146          4.513950e+09   \n",
       "2006-07-01                558366          4.768934e+09   \n",
       "2007-07-01                561354          5.144637e+09   \n",
       "2008-07-01                559271          5.248233e+09   \n",
       "2009-07-01                556836          5.162739e+09   \n",
       "\n",
       "             State_Operating_Cost_Per_Student  \n",
       "School_Year                                    \n",
       "1997-07-01                            1759.30  \n",
       "1998-07-01                            1873.19  \n",
       "1999-07-01                            6548.87  \n",
       "2000-07-01                            6975.18  \n",
       "2001-07-01                            7215.68  \n",
       "2002-07-01                            7044.24  \n",
       "2003-07-01                            7230.28  \n",
       "2004-07-01                            7636.57  \n",
       "2005-07-01                            8131.11  \n",
       "2006-07-01                            8540.87  \n",
       "2007-07-01                            9164.69  \n",
       "2008-07-01                            9384.06  \n",
       "2009-07-01                            9271.56  "
      ]
     },
     "execution_count": 24,
     "metadata": {},
     "output_type": "execute_result"
    }
   ],
   "source": [
    "state_spending = pd.DataFrame(list_of_series).T\n",
    "state_spending = state_spending.applymap(lambda x:x[0])\n",
    "state_spending"
   ]
  },
  {
   "cell_type": "code",
   "execution_count": 25,
   "metadata": {},
   "outputs": [
    {
     "data": {
      "text/plain": [
       "25"
      ]
     },
     "execution_count": 25,
     "metadata": {},
     "output_type": "execute_result"
    }
   ],
   "source": [
    "# Code snippet to get markers available, only check that the number of markers available is \n",
    "# more than the number of plots needed\n",
    "from matplotlib.lines import Line2D\n",
    "markers = []\n",
    "for m in Line2D.markers:\n",
    "    try:\n",
    "        if len(m) == 1 and m != ' ':\n",
    "            markers.append(m)\n",
    "    except TypeError:\n",
    "        pass\n",
    "len(markers)"
   ]
  },
  {
   "cell_type": "code",
   "execution_count": 26,
   "metadata": {},
   "outputs": [
    {
     "data": {
      "image/png": "[encoded data removed]",
      "text/plain": [
       "<Figure size 720x720 with 3 Axes>"
      ]
     },
     "metadata": {},
     "output_type": "display_data"
    }
   ],
   "source": [
    "xscale = range(1997,2010)\n",
    "colors = [\"red\",\"blue\",\"green\"]\n",
    "plt.figure(figsize=(10,10))\n",
    "visibility=True #Only plot x for the first one\n",
    "sns.set()\n",
    "for i, col in enumerate(state_list):\n",
    "    plt.subplot(3,1,3-i)\n",
    "    plt.plot(xscale,state_spending[col],linewidth=1,linestyle=\"--\", \n",
    "             label=\"{0}\".format(col), marker=\"o\", color=colors[i] )\n",
    "    if visibility:\n",
    "        plt.xticks(xscale, state_spending.index, rotation=45)\n",
    "    else:\n",
    "        plt.xticks(xscale)\n",
    "    visibility = False\n",
    "    plt.legend()\n",
    "    plt.grid(linestyle=\"--\")\n",
    "    \n",
    "\n",
    "plt.show()"
   ]
  },
  {
   "cell_type": "markdown",
   "metadata": {},
   "source": [
    "## Operating cost per Student vs Student Count per district\n",
    "The data had to be divided up into tiny school districts with \\<100 students, and big school districts with \\>30000 students, so that the trends can be seen. In tiny school districts, the cost per student is very high."
   ]
  },
  {
   "cell_type": "code",
   "execution_count": 27,
   "metadata": {},
   "outputs": [
    {
     "data": {
      "image/png": "[encoded data removed]",
      "text/plain": [
       "<Figure size 432x288 with 1 Axes>"
      ]
     },
     "metadata": {},
     "output_type": "display_data"
    }
   ],
   "source": [
    "plt.scatter(clean_data[\"Student_Count\"],clean_data[\"Operating_Cost_Per_Student\"])\n",
    "plt.xlabel(\"Number of students per school\")\n",
    "plt.ylabel(\"Cost per student \\($\\)\")\n",
    "plt.title(\"Distribution of all points\")\n",
    "plt.show()"
   ]
  },
  {
   "cell_type": "code",
   "execution_count": 28,
   "metadata": {},
   "outputs": [
    {
     "data": {
      "image/png": "[encoded data removed]",
      "text/plain": [
       "<Figure size 432x288 with 1 Axes>"
      ]
     },
     "metadata": {},
     "output_type": "display_data"
    }
   ],
   "source": [
    "non_small_schools = clean_data[(clean_data[\"Student_Count\"]>100) &(clean_data[\"Student_Count\"]<30000)]\n",
    "ax = plt.gca()\n",
    "plt.scatter(non_small_schools[\"Student_Count\"],non_small_schools[\"Operating_Cost_Per_Student\"])\n",
    "ax.set_xscale('log')\n",
    "plt.xlabel(\"Number of students per school, log scale\")\n",
    "plt.xlabel(\"Cost per student\\($\\)\")\n",
    "plt.title(\"Operating cost per student distribution\\nin schools with students between 100 and 30k\")\n",
    "plt.show()"
   ]
  },
  {
   "cell_type": "code",
   "execution_count": 29,
   "metadata": {},
   "outputs": [
    {
     "data": {
      "text/plain": [
       "20734.0"
      ]
     },
     "execution_count": 29,
     "metadata": {},
     "output_type": "execute_result"
    }
   ],
   "source": [
    "non_small_schools[\"Student_Count\"].max()"
   ]
  },
  {
   "cell_type": "code",
   "execution_count": 30,
   "metadata": {},
   "outputs": [],
   "source": [
    "big_schools =  clean_data[clean_data[\"Student_Count\"]>30000]"
   ]
  },
  {
   "cell_type": "code",
   "execution_count": 31,
   "metadata": {},
   "outputs": [
    {
     "data": {
      "image/png": "[encoded data removed]",
      "text/plain": [
       "<Figure size 432x288 with 1 Axes>"
      ]
     },
     "metadata": {},
     "output_type": "display_data"
    }
   ],
   "source": [
    "plt.scatter(big_schools[\"Student_Count\"],big_schools[\"Operating_Cost_Per_Student\"])\n",
    "plt.xlabel(\"Number of students per school\")\n",
    "plt.xlabel(\"Cost per student\\($\\)\")\n",
    "plt.title(\"Operating cost per student distribution\\nin schools with students more than 30k\")\n",
    "plt.show()"
   ]
  },
  {
   "cell_type": "code",
   "execution_count": 32,
   "metadata": {},
   "outputs": [
    {
     "data": {
      "text/plain": [
       "array([2142, 2180, 2243], dtype=int64)"
      ]
     },
     "execution_count": 32,
     "metadata": {},
     "output_type": "execute_result"
    }
   ],
   "source": [
    "big_schools[\"District_ID\"].unique()"
   ]
  },
  {
   "cell_type": "code",
   "execution_count": 33,
   "metadata": {},
   "outputs": [
    {
     "data": {
      "image/png": "[encoded data removed]",
      "text/plain": [
       "<Figure size 432x288 with 1 Axes>"
      ]
     },
     "metadata": {},
     "output_type": "display_data"
    }
   ],
   "source": [
    "tiny_schools =  clean_data[clean_data[\"Student_Count\"]<100]\n",
    "ax = plt.gca()\n",
    "ax.set_xscale('log')\n",
    "plt.scatter(tiny_schools[\"Student_Count\"],tiny_schools[\"Operating_Cost_Per_Student\"])\n",
    "plt.xlabel(\"Number of students per school, log scale\")\n",
    "plt.xlabel(\"Cost per student\\($\\)\")\n",
    "plt.title(\"Operating cost per student distribution\\nin schools with students less than 100\")\n",
    "plt.show()"
   ]
  },
  {
   "cell_type": "code",
   "execution_count": 34,
   "metadata": {},
   "outputs": [
    {
     "data": {
      "text/plain": [
       "array([1895, 1896, 2063, 1979, 2010, 2011, 2012, 2015, 2016, 2017, 2018,\n",
       "       2019, 2020, 2021, 2022, 2023, 2047, 2051, 2052, 2060, 2062, 2107,\n",
       "       2109, 2111, 2114, 2115, 2210, 2222, 2247, 2248, 2249], dtype=int64)"
      ]
     },
     "execution_count": 34,
     "metadata": {},
     "output_type": "execute_result"
    }
   ],
   "source": [
    "tiny_schools[\"District_ID\"].unique()"
   ]
  },
  {
   "cell_type": "code",
   "execution_count": 35,
   "metadata": {},
   "outputs": [
    {
     "data": {
      "text/html": [
       "<div>\n",
       "<style scoped>\n",
       "    .dataframe tbody tr th:only-of-type {\n",
       "        vertical-align: middle;\n",
       "    }\n",
       "\n",
       "    .dataframe tbody tr th {\n",
       "        vertical-align: top;\n",
       "    }\n",
       "\n",
       "    .dataframe thead th {\n",
       "        text-align: right;\n",
       "    }\n",
       "</style>\n",
       "<table border=\"1\" class=\"dataframe\">\n",
       "  <thead>\n",
       "    <tr style=\"text-align: right;\">\n",
       "      <th></th>\n",
       "      <th>Operating_Cost_Per_Student</th>\n",
       "      <th>Student_Count</th>\n",
       "      <th>State_Student_Count</th>\n",
       "      <th>Total_Operating_Cost</th>\n",
       "      <th>State_Operating_Cost</th>\n",
       "      <th>State_Operating_Cost_Per_Student</th>\n",
       "    </tr>\n",
       "    <tr>\n",
       "      <th>District_ID</th>\n",
       "      <th></th>\n",
       "      <th></th>\n",
       "      <th></th>\n",
       "      <th></th>\n",
       "      <th></th>\n",
       "      <th></th>\n",
       "    </tr>\n",
       "  </thead>\n",
       "  <tbody>\n",
       "    <tr>\n",
       "      <th>1895</th>\n",
       "      <td>15261.139091</td>\n",
       "      <td>92.454545</td>\n",
       "      <td>552657.818182</td>\n",
       "      <td>1.391312e+06</td>\n",
       "      <td>4.383386e+09</td>\n",
       "      <td>7922.100909</td>\n",
       "    </tr>\n",
       "    <tr>\n",
       "      <th>1896</th>\n",
       "      <td>18012.259091</td>\n",
       "      <td>70.272727</td>\n",
       "      <td>552657.818182</td>\n",
       "      <td>1.171480e+06</td>\n",
       "      <td>4.383386e+09</td>\n",
       "      <td>7922.100909</td>\n",
       "    </tr>\n",
       "    <tr>\n",
       "      <th>1897</th>\n",
       "      <td>12881.362727</td>\n",
       "      <td>229.818182</td>\n",
       "      <td>552657.818182</td>\n",
       "      <td>2.825029e+06</td>\n",
       "      <td>4.383386e+09</td>\n",
       "      <td>7922.100909</td>\n",
       "    </tr>\n",
       "    <tr>\n",
       "      <th>1899</th>\n",
       "      <td>11070.299091</td>\n",
       "      <td>170.545455</td>\n",
       "      <td>552657.818182</td>\n",
       "      <td>1.844268e+06</td>\n",
       "      <td>4.383386e+09</td>\n",
       "      <td>7922.100909</td>\n",
       "    </tr>\n",
       "    <tr>\n",
       "      <th>1934</th>\n",
       "      <td>14942.833636</td>\n",
       "      <td>183.727273</td>\n",
       "      <td>552657.818182</td>\n",
       "      <td>2.724899e+06</td>\n",
       "      <td>4.383386e+09</td>\n",
       "      <td>7922.100909</td>\n",
       "    </tr>\n",
       "  </tbody>\n",
       "</table>\n",
       "</div>"
      ],
      "text/plain": [
       "             Operating_Cost_Per_Student  Student_Count  State_Student_Count  \\\n",
       "District_ID                                                                   \n",
       "1895                       15261.139091      92.454545        552657.818182   \n",
       "1896                       18012.259091      70.272727        552657.818182   \n",
       "1897                       12881.362727     229.818182        552657.818182   \n",
       "1899                       11070.299091     170.545455        552657.818182   \n",
       "1934                       14942.833636     183.727273        552657.818182   \n",
       "\n",
       "             Total_Operating_Cost  State_Operating_Cost  \\\n",
       "District_ID                                               \n",
       "1895                 1.391312e+06          4.383386e+09   \n",
       "1896                 1.171480e+06          4.383386e+09   \n",
       "1897                 2.825029e+06          4.383386e+09   \n",
       "1899                 1.844268e+06          4.383386e+09   \n",
       "1934                 2.724899e+06          4.383386e+09   \n",
       "\n",
       "             State_Operating_Cost_Per_Student  \n",
       "District_ID                                    \n",
       "1895                              7922.100909  \n",
       "1896                              7922.100909  \n",
       "1897                              7922.100909  \n",
       "1899                              7922.100909  \n",
       "1934                              7922.100909  "
      ]
     },
     "execution_count": 35,
     "metadata": {},
     "output_type": "execute_result"
    }
   ],
   "source": [
    "high_cost_dists = clean_data.groupby(\"District_ID\").mean()\n",
    "high_cost_dists = high_cost_dists[high_cost_dists[\"Operating_Cost_Per_Student\"]>10000]\n",
    "high_cost_dists.head()"
   ]
  },
  {
   "cell_type": "code",
   "execution_count": 36,
   "metadata": {},
   "outputs": [
    {
     "data": {
      "image/png": "[encoded data removed]",
      "text/plain": [
       "<Figure size 432x288 with 1 Axes>"
      ]
     },
     "metadata": {},
     "output_type": "display_data"
    }
   ],
   "source": [
    "plt.scatter(high_cost_dists[\"Student_Count\"],high_cost_dists[\"Operating_Cost_Per_Student\"])\n",
    "plt.xlabel(\"Number of students per school\")\n",
    "plt.xlabel(\"Cost per student\\($\\)\")\n",
    "plt.title(\"Average of 1997-2009 Operating cost per student\\nin high cost districts\")\n",
    "plt.show()"
   ]
  },
  {
   "cell_type": "code",
   "execution_count": 37,
   "metadata": {},
   "outputs": [
    {
     "data": {
      "text/plain": [
       "774.1818181818181"
      ]
     },
     "execution_count": 37,
     "metadata": {},
     "output_type": "execute_result"
    }
   ],
   "source": [
    "high_cost_dists[\"Student_Count\"].max()"
   ]
  },
  {
   "cell_type": "code",
   "execution_count": 38,
   "metadata": {},
   "outputs": [
    {
     "data": {
      "text/html": [
       "<div>\n",
       "<style scoped>\n",
       "    .dataframe tbody tr th:only-of-type {\n",
       "        vertical-align: middle;\n",
       "    }\n",
       "\n",
       "    .dataframe tbody tr th {\n",
       "        vertical-align: top;\n",
       "    }\n",
       "\n",
       "    .dataframe thead th {\n",
       "        text-align: right;\n",
       "    }\n",
       "</style>\n",
       "<table border=\"1\" class=\"dataframe\">\n",
       "  <thead>\n",
       "    <tr style=\"text-align: right;\">\n",
       "      <th></th>\n",
       "      <th>District_ID</th>\n",
       "      <th>County_Name</th>\n",
       "      <th>Operating_Cost_Per_Student</th>\n",
       "      <th>District_Number</th>\n",
       "      <th>School_Year</th>\n",
       "      <th>Student_Count</th>\n",
       "      <th>State_Student_Count</th>\n",
       "      <th>Total_Operating_Cost</th>\n",
       "      <th>State_Operating_Cost</th>\n",
       "      <th>State_Operating_Cost_Per_Student</th>\n",
       "    </tr>\n",
       "  </thead>\n",
       "  <tbody>\n",
       "    <tr>\n",
       "      <th>1567</th>\n",
       "      <td>2180</td>\n",
       "      <td>MULTNOMAH</td>\n",
       "      <td>10050.55</td>\n",
       "      <td>Portland SD 1J</td>\n",
       "      <td>2006-07-01</td>\n",
       "      <td>46439.0</td>\n",
       "      <td>558366</td>\n",
       "      <td>466737674.5</td>\n",
       "      <td>4.768934e+09</td>\n",
       "      <td>8540.87</td>\n",
       "    </tr>\n",
       "    <tr>\n",
       "      <th>1568</th>\n",
       "      <td>2180</td>\n",
       "      <td>MULTNOMAH</td>\n",
       "      <td>11042.17</td>\n",
       "      <td>Portland SD 1J</td>\n",
       "      <td>2007-07-01</td>\n",
       "      <td>46363.0</td>\n",
       "      <td>561354</td>\n",
       "      <td>511948102.3</td>\n",
       "      <td>5.144637e+09</td>\n",
       "      <td>9164.69</td>\n",
       "    </tr>\n",
       "    <tr>\n",
       "      <th>1569</th>\n",
       "      <td>2180</td>\n",
       "      <td>MULTNOMAH</td>\n",
       "      <td>11158.41</td>\n",
       "      <td>Portland SD 1J</td>\n",
       "      <td>2008-07-01</td>\n",
       "      <td>44959.0</td>\n",
       "      <td>559271</td>\n",
       "      <td>501670741.0</td>\n",
       "      <td>5.248233e+09</td>\n",
       "      <td>9384.06</td>\n",
       "    </tr>\n",
       "    <tr>\n",
       "      <th>1570</th>\n",
       "      <td>2180</td>\n",
       "      <td>MULTNOMAH</td>\n",
       "      <td>11242.93</td>\n",
       "      <td>Portland SD 1J</td>\n",
       "      <td>2009-07-01</td>\n",
       "      <td>45708.0</td>\n",
       "      <td>556836</td>\n",
       "      <td>513891919.1</td>\n",
       "      <td>5.162739e+09</td>\n",
       "      <td>9271.56</td>\n",
       "    </tr>\n",
       "  </tbody>\n",
       "</table>\n",
       "</div>"
      ],
      "text/plain": [
       "      District_ID County_Name  Operating_Cost_Per_Student District_Number  \\\n",
       "1567         2180   MULTNOMAH                    10050.55  Portland SD 1J   \n",
       "1568         2180   MULTNOMAH                    11042.17  Portland SD 1J   \n",
       "1569         2180   MULTNOMAH                    11158.41  Portland SD 1J   \n",
       "1570         2180   MULTNOMAH                    11242.93  Portland SD 1J   \n",
       "\n",
       "     School_Year  Student_Count  State_Student_Count  Total_Operating_Cost  \\\n",
       "1567  2006-07-01        46439.0               558366           466737674.5   \n",
       "1568  2007-07-01        46363.0               561354           511948102.3   \n",
       "1569  2008-07-01        44959.0               559271           501670741.0   \n",
       "1570  2009-07-01        45708.0               556836           513891919.1   \n",
       "\n",
       "      State_Operating_Cost  State_Operating_Cost_Per_Student  \n",
       "1567          4.768934e+09                           8540.87  \n",
       "1568          5.144637e+09                           9164.69  \n",
       "1569          5.248233e+09                           9384.06  \n",
       "1570          5.162739e+09                           9271.56  "
      ]
     },
     "execution_count": 38,
     "metadata": {},
     "output_type": "execute_result"
    }
   ],
   "source": [
    "clean_data[(clean_data[\"Student_Count\"]>30000) & (clean_data[\"Operating_Cost_Per_Student\"]>10000)]"
   ]
  },
  {
   "cell_type": "code",
   "execution_count": 39,
   "metadata": {},
   "outputs": [
    {
     "name": "stderr",
     "output_type": "stream",
     "text": [
      "C:\\Users\\Sandhya\\Anaconda3\\envs\\PythonData\\lib\\site-packages\\ipykernel\\__main__.py:1: SettingWithCopyWarning: \n",
      "A value is trying to be set on a copy of a slice from a DataFrame.\n",
      "Try using .loc[row_indexer,col_indexer] = value instead\n",
      "\n",
      "See the caveats in the documentation: http://pandas.pydata.org/pandas-docs/stable/indexing.html#indexing-view-versus-copy\n",
      "  if __name__ == '__main__':\n"
     ]
    },
    {
     "data": {
      "text/plain": [
       "1558    1997\n",
       "1559    1998\n",
       "1560    1999\n",
       "1561    2000\n",
       "1562    2001\n",
       "Name: year, dtype: int64"
      ]
     },
     "execution_count": 39,
     "metadata": {},
     "output_type": "execute_result"
    }
   ],
   "source": [
    "clean_data['year'] = pd.to_datetime(clean_data['School_Year'], errors='ignore').dt.year\n",
    "data_2180=clean_data[(clean_data[\"District_ID\"]==2180)]\n",
    "data_2180[\"year\"].head()"
   ]
  },
  {
   "cell_type": "code",
   "execution_count": 40,
   "metadata": {},
   "outputs": [
    {
     "data": {
      "image/png": "[encoded data removed]",
      "text/plain": [
       "<Figure size 720x720 with 2 Axes>"
      ]
     },
     "metadata": {},
     "output_type": "display_data"
    }
   ],
   "source": [
    "sns.set()\n",
    "plt.figure(figsize=(10,10))\n",
    "plt.subplot(2,1,2)\n",
    "plt.title(\"Portland SD 1J school district which has >10k cost per student and >30k students\")\n",
    "plt.plot(data_2180[\"year\"],data_2180[\"Operating_Cost_Per_Student\"],linewidth=1,linestyle=\"--\", \n",
    "             label=\"Operating Cost Per Student\", marker=\"o\", color=\"blue\" )\n",
    "plt.legend()\n",
    "plt.xticks(xscale)\n",
    "plt.subplot(2,1,1)\n",
    "plt.plot(data_2180[\"year\"],data_2180[\"Student_Count\"],linewidth=1,linestyle=\"--\", \n",
    "             label=\"Student Count\", marker=\"o\", color=\"green\" )\n",
    "\n",
    "plt.xticks(xscale)\n",
    "plt.legend()\n",
    "plt.grid(linestyle=\"--\")\n",
    "plt.show()"
   ]
  },
  {
   "cell_type": "code",
   "execution_count": 41,
   "metadata": {},
   "outputs": [
    {
     "data": {
      "text/html": [
       "<div>\n",
       "<style scoped>\n",
       "    .dataframe tbody tr th:only-of-type {\n",
       "        vertical-align: middle;\n",
       "    }\n",
       "\n",
       "    .dataframe tbody tr th {\n",
       "        vertical-align: top;\n",
       "    }\n",
       "\n",
       "    .dataframe thead th {\n",
       "        text-align: right;\n",
       "    }\n",
       "</style>\n",
       "<table border=\"1\" class=\"dataframe\">\n",
       "  <thead>\n",
       "    <tr style=\"text-align: right;\">\n",
       "      <th></th>\n",
       "      <th>District_ID</th>\n",
       "      <th>County_Name</th>\n",
       "      <th>Operating_Cost_Per_Student</th>\n",
       "      <th>District_Number</th>\n",
       "      <th>School_Year</th>\n",
       "      <th>Student_Count</th>\n",
       "      <th>State_Student_Count</th>\n",
       "      <th>Total_Operating_Cost</th>\n",
       "      <th>State_Operating_Cost</th>\n",
       "      <th>State_Operating_Cost_Per_Student</th>\n",
       "      <th>year</th>\n",
       "    </tr>\n",
       "  </thead>\n",
       "  <tbody>\n",
       "    <tr>\n",
       "      <th>449</th>\n",
       "      <td>1979</td>\n",
       "      <td>DESCHUTES</td>\n",
       "      <td>63387.33</td>\n",
       "      <td>BROTHERS SCH DIST 15</td>\n",
       "      <td>2003-07-01</td>\n",
       "      <td>3.0</td>\n",
       "      <td>549169</td>\n",
       "      <td>190162.00</td>\n",
       "      <td>3.970644e+09</td>\n",
       "      <td>7230.28</td>\n",
       "      <td>2003</td>\n",
       "    </tr>\n",
       "    <tr>\n",
       "      <th>450</th>\n",
       "      <td>1979</td>\n",
       "      <td>DESCHUTES</td>\n",
       "      <td>57454.33</td>\n",
       "      <td>BROTHERS SCH DIST 15</td>\n",
       "      <td>2004-07-01</td>\n",
       "      <td>3.0</td>\n",
       "      <td>549793</td>\n",
       "      <td>172363.00</td>\n",
       "      <td>4.198535e+09</td>\n",
       "      <td>7636.57</td>\n",
       "      <td>2004</td>\n",
       "    </tr>\n",
       "    <tr>\n",
       "      <th>768</th>\n",
       "      <td>2021</td>\n",
       "      <td>HARNEY</td>\n",
       "      <td>120444.65</td>\n",
       "      <td>Double O SD 28</td>\n",
       "      <td>2005-07-01</td>\n",
       "      <td>1.0</td>\n",
       "      <td>555146</td>\n",
       "      <td>120444.65</td>\n",
       "      <td>4.513950e+09</td>\n",
       "      <td>8131.11</td>\n",
       "      <td>2005</td>\n",
       "    </tr>\n",
       "    <tr>\n",
       "      <th>769</th>\n",
       "      <td>2021</td>\n",
       "      <td>HARNEY</td>\n",
       "      <td>61425.21</td>\n",
       "      <td>Double O SD 28</td>\n",
       "      <td>2006-07-01</td>\n",
       "      <td>2.0</td>\n",
       "      <td>558366</td>\n",
       "      <td>122850.41</td>\n",
       "      <td>4.768934e+09</td>\n",
       "      <td>8540.87</td>\n",
       "      <td>2006</td>\n",
       "    </tr>\n",
       "    <tr>\n",
       "      <th>770</th>\n",
       "      <td>2021</td>\n",
       "      <td>HARNEY</td>\n",
       "      <td>125242.63</td>\n",
       "      <td>Double O SD 28</td>\n",
       "      <td>2007-07-01</td>\n",
       "      <td>1.0</td>\n",
       "      <td>561354</td>\n",
       "      <td>125242.63</td>\n",
       "      <td>5.144637e+09</td>\n",
       "      <td>9164.69</td>\n",
       "      <td>2007</td>\n",
       "    </tr>\n",
       "    <tr>\n",
       "      <th>772</th>\n",
       "      <td>2021</td>\n",
       "      <td>HARNEY</td>\n",
       "      <td>62407.58</td>\n",
       "      <td>Double O SD 28</td>\n",
       "      <td>2009-07-01</td>\n",
       "      <td>2.0</td>\n",
       "      <td>556836</td>\n",
       "      <td>124815.16</td>\n",
       "      <td>5.162739e+09</td>\n",
       "      <td>9271.56</td>\n",
       "      <td>2009</td>\n",
       "    </tr>\n",
       "    <tr>\n",
       "      <th>925</th>\n",
       "      <td>2051</td>\n",
       "      <td>JEFFERSON</td>\n",
       "      <td>66814.28</td>\n",
       "      <td>Ashwood SD 8</td>\n",
       "      <td>2006-07-01</td>\n",
       "      <td>3.0</td>\n",
       "      <td>558366</td>\n",
       "      <td>200442.85</td>\n",
       "      <td>4.768934e+09</td>\n",
       "      <td>8540.87</td>\n",
       "      <td>2006</td>\n",
       "    </tr>\n",
       "    <tr>\n",
       "      <th>926</th>\n",
       "      <td>2051</td>\n",
       "      <td>JEFFERSON</td>\n",
       "      <td>73827.23</td>\n",
       "      <td>Ashwood SD 8</td>\n",
       "      <td>2007-07-01</td>\n",
       "      <td>2.0</td>\n",
       "      <td>561354</td>\n",
       "      <td>147654.46</td>\n",
       "      <td>5.144637e+09</td>\n",
       "      <td>9164.69</td>\n",
       "      <td>2007</td>\n",
       "    </tr>\n",
       "    <tr>\n",
       "      <th>927</th>\n",
       "      <td>2051</td>\n",
       "      <td>JEFFERSON</td>\n",
       "      <td>170210.60</td>\n",
       "      <td>Ashwood SD 8</td>\n",
       "      <td>2008-07-01</td>\n",
       "      <td>1.0</td>\n",
       "      <td>559271</td>\n",
       "      <td>170210.60</td>\n",
       "      <td>5.248233e+09</td>\n",
       "      <td>9384.06</td>\n",
       "      <td>2008</td>\n",
       "    </tr>\n",
       "    <tr>\n",
       "      <th>928</th>\n",
       "      <td>2051</td>\n",
       "      <td>JEFFERSON</td>\n",
       "      <td>84994.03</td>\n",
       "      <td>Ashwood SD 8</td>\n",
       "      <td>2009-07-01</td>\n",
       "      <td>2.0</td>\n",
       "      <td>556836</td>\n",
       "      <td>169988.06</td>\n",
       "      <td>5.162739e+09</td>\n",
       "      <td>9271.56</td>\n",
       "      <td>2009</td>\n",
       "    </tr>\n",
       "    <tr>\n",
       "      <th>1956</th>\n",
       "      <td>2222</td>\n",
       "      <td>WALLOWA</td>\n",
       "      <td>89301.92</td>\n",
       "      <td>Troy SD 54</td>\n",
       "      <td>2006-07-01</td>\n",
       "      <td>2.0</td>\n",
       "      <td>558366</td>\n",
       "      <td>178603.83</td>\n",
       "      <td>4.768934e+09</td>\n",
       "      <td>8540.87</td>\n",
       "      <td>2006</td>\n",
       "    </tr>\n",
       "    <tr>\n",
       "      <th>1957</th>\n",
       "      <td>2222</td>\n",
       "      <td>WALLOWA</td>\n",
       "      <td>92429.45</td>\n",
       "      <td>Troy SD 54</td>\n",
       "      <td>2007-07-01</td>\n",
       "      <td>2.0</td>\n",
       "      <td>561354</td>\n",
       "      <td>184858.90</td>\n",
       "      <td>5.144637e+09</td>\n",
       "      <td>9164.69</td>\n",
       "      <td>2007</td>\n",
       "    </tr>\n",
       "  </tbody>\n",
       "</table>\n",
       "</div>"
      ],
      "text/plain": [
       "      District_ID County_Name  Operating_Cost_Per_Student  \\\n",
       "449          1979   DESCHUTES                    63387.33   \n",
       "450          1979   DESCHUTES                    57454.33   \n",
       "768          2021      HARNEY                   120444.65   \n",
       "769          2021      HARNEY                    61425.21   \n",
       "770          2021      HARNEY                   125242.63   \n",
       "772          2021      HARNEY                    62407.58   \n",
       "925          2051   JEFFERSON                    66814.28   \n",
       "926          2051   JEFFERSON                    73827.23   \n",
       "927          2051   JEFFERSON                   170210.60   \n",
       "928          2051   JEFFERSON                    84994.03   \n",
       "1956         2222     WALLOWA                    89301.92   \n",
       "1957         2222     WALLOWA                    92429.45   \n",
       "\n",
       "           District_Number School_Year  Student_Count  State_Student_Count  \\\n",
       "449   BROTHERS SCH DIST 15  2003-07-01            3.0               549169   \n",
       "450   BROTHERS SCH DIST 15  2004-07-01            3.0               549793   \n",
       "768         Double O SD 28  2005-07-01            1.0               555146   \n",
       "769         Double O SD 28  2006-07-01            2.0               558366   \n",
       "770         Double O SD 28  2007-07-01            1.0               561354   \n",
       "772         Double O SD 28  2009-07-01            2.0               556836   \n",
       "925           Ashwood SD 8  2006-07-01            3.0               558366   \n",
       "926           Ashwood SD 8  2007-07-01            2.0               561354   \n",
       "927           Ashwood SD 8  2008-07-01            1.0               559271   \n",
       "928           Ashwood SD 8  2009-07-01            2.0               556836   \n",
       "1956            Troy SD 54  2006-07-01            2.0               558366   \n",
       "1957            Troy SD 54  2007-07-01            2.0               561354   \n",
       "\n",
       "      Total_Operating_Cost  State_Operating_Cost  \\\n",
       "449              190162.00          3.970644e+09   \n",
       "450              172363.00          4.198535e+09   \n",
       "768              120444.65          4.513950e+09   \n",
       "769              122850.41          4.768934e+09   \n",
       "770              125242.63          5.144637e+09   \n",
       "772              124815.16          5.162739e+09   \n",
       "925              200442.85          4.768934e+09   \n",
       "926              147654.46          5.144637e+09   \n",
       "927              170210.60          5.248233e+09   \n",
       "928              169988.06          5.162739e+09   \n",
       "1956             178603.83          4.768934e+09   \n",
       "1957             184858.90          5.144637e+09   \n",
       "\n",
       "      State_Operating_Cost_Per_Student  year  \n",
       "449                            7230.28  2003  \n",
       "450                            7636.57  2004  \n",
       "768                            8131.11  2005  \n",
       "769                            8540.87  2006  \n",
       "770                            9164.69  2007  \n",
       "772                            9271.56  2009  \n",
       "925                            8540.87  2006  \n",
       "926                            9164.69  2007  \n",
       "927                            9384.06  2008  \n",
       "928                            9271.56  2009  \n",
       "1956                           8540.87  2006  \n",
       "1957                           9164.69  2007  "
      ]
     },
     "execution_count": 41,
     "metadata": {},
     "output_type": "execute_result"
    }
   ],
   "source": [
    "clean_data[clean_data[\"Operating_Cost_Per_Student\"]>50000]"
   ]
  },
  {
   "cell_type": "code",
   "execution_count": null,
   "metadata": {},
   "outputs": [],
   "source": []
  }
 ],
 "metadata": {
  "kernelspec": {
   "display_name": "Python [conda env:PythonData]",
   "language": "python",
   "name": "conda-env-PythonData-py"
  },
  "language_info": {
   "codemirror_mode": {
    "name": "ipython",
    "version": 3
   },
   "file_extension": ".py",
   "mimetype": "text/x-python",
   "name": "python",
   "nbconvert_exporter": "python",
   "pygments_lexer": "ipython3",
   "version": "3.6.5"
  }
 },
 "nbformat": 4,
 "nbformat_minor": 2
}
