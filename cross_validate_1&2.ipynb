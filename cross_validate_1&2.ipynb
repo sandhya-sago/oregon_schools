{
 "cells": [
  {
   "cell_type": "code",
   "execution_count": 1,
   "metadata": {},
   "outputs": [
    {
     "data": {
      "text/plain": [
       "(2190, 10)"
      ]
     },
     "execution_count": 1,
     "metadata": {},
     "output_type": "execute_result"
    }
   ],
   "source": [
    "import pandas as pd\n",
    "import matplotlib.pyplot as plt\n",
    "import numpy as np\n",
    "import seaborn as sns\n",
    "import datapackage\n",
    "data_url = 'https://datahub.io/JohnSnowLabs/education-actual-operating-cost-per-student/datapackage.json'\n",
    "package = datapackage.Package(data_url)\n",
    "resources = package.resources\n",
    "for resource in resources:\n",
    "    if resource.tabular:\n",
    "        data = pd.read_csv(resource.descriptor['path'])\n",
    "clean_data = data.dropna()\n",
    "clean_data.shape"
   ]
  },
  {
   "cell_type": "code",
   "execution_count": 2,
   "metadata": {
    "collapsed": true
   },
   "outputs": [],
   "source": [
    "school_perf_report = pd.read_csv(\"oregon_schoool_performance_report_filtered.csv\", encoding='iso-8859-1')"
   ]
  },
  {
   "cell_type": "code",
   "execution_count": 3,
   "metadata": {},
   "outputs": [
    {
     "data": {
      "text/html": [
       "<div>\n",
       "<style>\n",
       "    .dataframe thead tr:only-child th {\n",
       "        text-align: right;\n",
       "    }\n",
       "\n",
       "    .dataframe thead th {\n",
       "        text-align: left;\n",
       "    }\n",
       "\n",
       "    .dataframe tbody tr th {\n",
       "        vertical-align: top;\n",
       "    }\n",
       "</style>\n",
       "<table border=\"1\" class=\"dataframe\">\n",
       "  <thead>\n",
       "    <tr style=\"text-align: right;\">\n",
       "      <th></th>\n",
       "      <th></th>\n",
       "      <th>STUDENRCNT</th>\n",
       "      <th>FREEREDSTUDCNT</th>\n",
       "      <th>MnrtyStudCnt</th>\n",
       "    </tr>\n",
       "    <tr>\n",
       "      <th>DISTINSTID</th>\n",
       "      <th>year</th>\n",
       "      <th></th>\n",
       "      <th></th>\n",
       "      <th></th>\n",
       "    </tr>\n",
       "  </thead>\n",
       "  <tbody>\n",
       "    <tr>\n",
       "      <th rowspan=\"5\" valign=\"top\">1894</th>\n",
       "      <th>1999</th>\n",
       "      <td>2317.0</td>\n",
       "      <td>865.0</td>\n",
       "      <td>123.0</td>\n",
       "    </tr>\n",
       "    <tr>\n",
       "      <th>2000</th>\n",
       "      <td>2343.0</td>\n",
       "      <td>831.0</td>\n",
       "      <td>186.0</td>\n",
       "    </tr>\n",
       "    <tr>\n",
       "      <th>2001</th>\n",
       "      <td>2199.0</td>\n",
       "      <td>839.0</td>\n",
       "      <td>146.0</td>\n",
       "    </tr>\n",
       "    <tr>\n",
       "      <th>2002</th>\n",
       "      <td>2151.0</td>\n",
       "      <td>875.0</td>\n",
       "      <td>165.0</td>\n",
       "    </tr>\n",
       "    <tr>\n",
       "      <th>2003</th>\n",
       "      <td>2115.0</td>\n",
       "      <td>963.0</td>\n",
       "      <td>176.0</td>\n",
       "    </tr>\n",
       "  </tbody>\n",
       "</table>\n",
       "</div>"
      ],
      "text/plain": [
       "                 STUDENRCNT  FREEREDSTUDCNT  MnrtyStudCnt\n",
       "DISTINSTID year                                          \n",
       "1894       1999      2317.0           865.0         123.0\n",
       "           2000      2343.0           831.0         186.0\n",
       "           2001      2199.0           839.0         146.0\n",
       "           2002      2151.0           875.0         165.0\n",
       "           2003      2115.0           963.0         176.0"
      ]
     },
     "execution_count": 3,
     "metadata": {},
     "output_type": "execute_result"
    }
   ],
   "source": [
    "school_dist = school_perf_report.groupby([\"DISTINSTID\",\"year\"])[\"STUDENRCNT\",'FREEREDSTUDCNT','MnrtyStudCnt'].sum()\n",
    "school_dist.head()"
   ]
  },
  {
   "cell_type": "markdown",
   "metadata": {},
   "source": [
    "Cross-checking that we get the same school districts for students \\>30k and \\<100 in dataset from oregon.gov report versus the one from datahub.io. These ids match the ones in [oregon_schools_eda1](oregon_schools_eda1.ipynb), so we can be reasonably confident that our data is good."
   ]
  },
  {
   "cell_type": "code",
   "execution_count": 4,
   "metadata": {},
   "outputs": [
    {
     "data": {
      "text/plain": [
       "Int64Index([2142, 2180, 2243], dtype='int64', name='DISTINSTID')"
      ]
     },
     "execution_count": 4,
     "metadata": {},
     "output_type": "execute_result"
    }
   ],
   "source": [
    "school_dist[school_dist[\"STUDENRCNT\"]>30000].index.get_level_values(0).unique()"
   ]
  },
  {
   "cell_type": "code",
   "execution_count": 5,
   "metadata": {},
   "outputs": [
    {
     "data": {
      "text/plain": [
       "Int64Index([1895, 1896, 1979, 2010, 2011, 2012, 2015, 2016, 2017, 2018, 2019,\n",
       "            2020, 2021, 2022, 2023, 2047, 2051, 2052, 2060, 2062, 2063, 2107,\n",
       "            2109, 2111, 2114, 2115, 2210, 2222, 2247, 2248, 2249],\n",
       "           dtype='int64', name='DISTINSTID')"
      ]
     },
     "execution_count": 5,
     "metadata": {},
     "output_type": "execute_result"
    }
   ],
   "source": [
    "school_dist[school_dist[\"STUDENRCNT\"]<100].index.get_level_values(0).unique()"
   ]
  },
  {
   "cell_type": "code",
   "execution_count": null,
   "metadata": {
    "collapsed": true
   },
   "outputs": [],
   "source": []
  }
 ],
 "metadata": {
  "kernelspec": {
   "display_name": "Python 3",
   "language": "python",
   "name": "python3"
  },
  "language_info": {
   "codemirror_mode": {
    "name": "ipython",
    "version": 3
   },
   "file_extension": ".py",
   "mimetype": "text/x-python",
   "name": "python",
   "nbconvert_exporter": "python",
   "pygments_lexer": "ipython3",
   "version": "3.6.1"
  }
 },
 "nbformat": 4,
 "nbformat_minor": 2
}
